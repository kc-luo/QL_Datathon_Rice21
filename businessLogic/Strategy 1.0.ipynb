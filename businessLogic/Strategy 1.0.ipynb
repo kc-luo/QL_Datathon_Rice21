{
 "cells": [
  {
   "cell_type": "code",
   "execution_count": 3,
   "metadata": {},
   "outputs": [],
   "source": [
    "from IPython.display import display, HTML\n"
   ]
  },
  {
   "cell_type": "markdown",
   "metadata": {},
   "source": [
    "Import DS modules"
   ]
  },
  {
   "cell_type": "code",
   "execution_count": 53,
   "metadata": {},
   "outputs": [],
   "source": [
    "import matplotlib.pyplot as plt\n",
    "import pandas as pd\n",
    "from datetime import datetime, timedelta\n",
    "import statsmodels.api as sm"
   ]
  },
  {
   "cell_type": "markdown",
   "metadata": {},
   "source": [
    "## Getting Started\n",
    "\n",
    "In this notebook, we will walk through what it takes to build and assess quality of a simple strategy"
   ]
  },
  {
   "cell_type": "markdown",
   "metadata": {},
   "source": [
    "We will rely heavily on `TDSCoinbaseData`, `TDSTickGenerator`, and `TDSTransactionTracker`"
   ]
  },
  {
   "cell_type": "code",
   "execution_count": 4,
   "metadata": {},
   "outputs": [],
   "source": [
    "from TDSCoinbaseData import TDSCoinbaseData\n",
    "from TDSTickGenerator import TDSTickGenerator\n",
    "from TDSTransactionTracker import TDSTransactionTracker\n",
    "import logging\n",
    "logging.getLogger().setLevel(level=logging.ERROR)"
   ]
  },
  {
   "cell_type": "code",
   "execution_count": 221,
   "metadata": {},
   "outputs": [],
   "source": [
    "# instantiate our data interface\n",
    "cb_obj = TDSCoinbaseData(cache_path='data', notebook_logging=True)"
   ]
  },
  {
   "cell_type": "code",
   "execution_count": 222,
   "metadata": {},
   "outputs": [],
   "source": [
    "# Set the start and end date\n",
    "start_date = '20201001'\n",
    "end_date = '20201231'\n",
    "\n",
    "# List all of the products to be used in the strategy. Be sure to list all products you may use, these can't be updated later\n",
    "products = ['BTC-USD', 'ETH-USD', 'BTC-EUR']"
   ]
  },
  {
   "cell_type": "code",
   "execution_count": 223,
   "metadata": {},
   "outputs": [],
   "source": [
    "# Instantiate our transaction tracker. As required, we start with 1.0 BTC\n",
    "trans_tracker = TDSTransactionTracker(start_date, end_date, holdings={'BTC' : 1.0})"
   ]
  },
  {
   "cell_type": "code",
   "execution_count": 224,
   "metadata": {},
   "outputs": [],
   "source": [
    "# Instantiate a tick generator\n",
    "tick_gen = TDSTickGenerator(cb_obj, products, start_date, end_date, interval=60)"
   ]
  },
  {
   "cell_type": "markdown",
   "metadata": {},
   "source": [
    "## Init Pandas Dataframe aka timeseries in this setting."
   ]
  },
  {
   "cell_type": "code",
   "execution_count": 225,
   "metadata": {},
   "outputs": [],
   "source": [
    "d = {'open': [], 'close': [], 'volume': [], 'datetime': []}\n",
    "# history dataframes\n",
    "btc_usd = pd.DataFrame(data=d)\n",
    "eth_usd = pd.DataFrame(data=d)\n",
    "#ltc_usd = pd.DataFrame(data=d)\n",
    "#bch_usd = pd.DataFrame(data=d)\n",
    "# prediction\n",
    "pred_btc = None\n",
    "pred_eth = None\n",
    "# TODO: The flag for normal/low/high volatility period\n",
    "\n",
    "starttime = '2020-01-01 00:00:00+00:00'\n",
    "holding_btc = True;\n",
    "size = 0\n",
    "MAX_TRAINNING_SIZE = 1440\n",
    "SIZE_LIMIT_REACHED = False"
   ]
  },
  {
   "cell_type": "markdown",
   "metadata": {},
   "source": [
    "## Loads Initial data (for testing only)\n",
    "## The model (probably) doesn't work on small sample size\n"
   ]
  },
  {
   "cell_type": "code",
   "execution_count": 230,
   "metadata": {},
   "outputs": [],
   "source": [
    "# Appends value for a new tick to existing dataframes\n",
    "# Input: \n",
    "#    tick -- the tick obj\n",
    "#    btc_usd -- dataframe\n",
    "#    eth_usd -- dataframe\n",
    "#    scale_btc -- the scale value for btc/dollar\n",
    "#    eth_btc -- the scale value for eth/dollar\n",
    "def append_ticks(tick, btc_usd, eth_usd, scale_btc=1000, scale_eth=1000, max_r=SIZE_LIMIT_REACHED):\n",
    "    t_usd = tick.p.btc_usd\n",
    "    t_eth = tick.p.eth_usd\n",
    "    btc_usd = btc_usd.append({'open': scale_btc/t_usd.open, 'close': scale_btc/t_usd.close, \n",
    "                      'volume': t_usd.volume, 'datetime': tick.datetime}, ignore_index=True)\n",
    "    eth_usd = eth_usd.append({'open': scale_eth/t_eth.open, 'close': scale_eth/t_eth.close, \n",
    "                      'volume': t_eth.volume, 'datetime': tick.datetime}, ignore_index=True)\n",
    "    # Checks if size limit has been reached\n",
    "    if (SIZE_LIMIT_REACHED or len(btc_usd.index) > MAX_TRAINNING_SIZE) :\n",
    "        btc_usd.iloc[1:]\n",
    "        max_r = True\n",
    "    if (SIZE_LIMIT_REACHED or len(eth_usd.index) > MAX_TRAINNING_SIZE) :\n",
    "        eth_usd.iloc[1:]\n",
    "        max_r = True\n",
    "    return(btc_usd, eth_usd, SIZE_LIMIT_REACHED)\n",
    "\n",
    "#loads initial value for testing\n",
    "for i in range(0, 150) :\n",
    "    tick = tick_gen.get_tick()\n",
    "    (btc_usd, eth_usd, SIZE_LIMIT_REACHED) = append_ticks(tick, btc_usd, eth_usd)\n"
   ]
  },
  {
   "cell_type": "code",
   "execution_count": 231,
   "metadata": {},
   "outputs": [
    {
     "data": {
      "text/html": [
       "<div>\n",
       "<style scoped>\n",
       "    .dataframe tbody tr th:only-of-type {\n",
       "        vertical-align: middle;\n",
       "    }\n",
       "\n",
       "    .dataframe tbody tr th {\n",
       "        vertical-align: top;\n",
       "    }\n",
       "\n",
       "    .dataframe thead th {\n",
       "        text-align: right;\n",
       "    }\n",
       "</style>\n",
       "<table border=\"1\" class=\"dataframe\">\n",
       "  <thead>\n",
       "    <tr style=\"text-align: right;\">\n",
       "      <th></th>\n",
       "      <th>open</th>\n",
       "      <th>close</th>\n",
       "      <th>volume</th>\n",
       "      <th>datetime</th>\n",
       "    </tr>\n",
       "  </thead>\n",
       "  <tbody>\n",
       "    <tr>\n",
       "      <th>0</th>\n",
       "      <td>0.092635</td>\n",
       "      <td>0.092593</td>\n",
       "      <td>2.646372</td>\n",
       "      <td>2020-10-01 00:03:00+00:00</td>\n",
       "    </tr>\n",
       "    <tr>\n",
       "      <th>1</th>\n",
       "      <td>0.092597</td>\n",
       "      <td>0.092443</td>\n",
       "      <td>47.834038</td>\n",
       "      <td>2020-10-01 00:04:00+00:00</td>\n",
       "    </tr>\n",
       "    <tr>\n",
       "      <th>2</th>\n",
       "      <td>0.092463</td>\n",
       "      <td>0.092386</td>\n",
       "      <td>1.916095</td>\n",
       "      <td>2020-10-01 00:05:00+00:00</td>\n",
       "    </tr>\n",
       "    <tr>\n",
       "      <th>3</th>\n",
       "      <td>0.092397</td>\n",
       "      <td>0.092440</td>\n",
       "      <td>14.504379</td>\n",
       "      <td>2020-10-01 00:06:00+00:00</td>\n",
       "    </tr>\n",
       "    <tr>\n",
       "      <th>4</th>\n",
       "      <td>0.092433</td>\n",
       "      <td>0.092459</td>\n",
       "      <td>18.712856</td>\n",
       "      <td>2020-10-01 00:07:00+00:00</td>\n",
       "    </tr>\n",
       "    <tr>\n",
       "      <th>...</th>\n",
       "      <td>...</td>\n",
       "      <td>...</td>\n",
       "      <td>...</td>\n",
       "      <td>...</td>\n",
       "    </tr>\n",
       "    <tr>\n",
       "      <th>295</th>\n",
       "      <td>0.092537</td>\n",
       "      <td>0.092537</td>\n",
       "      <td>0.968268</td>\n",
       "      <td>2020-10-01 04:58:00+00:00</td>\n",
       "    </tr>\n",
       "    <tr>\n",
       "      <th>296</th>\n",
       "      <td>0.092537</td>\n",
       "      <td>0.092541</td>\n",
       "      <td>1.849885</td>\n",
       "      <td>2020-10-01 04:59:00+00:00</td>\n",
       "    </tr>\n",
       "    <tr>\n",
       "      <th>297</th>\n",
       "      <td>0.092541</td>\n",
       "      <td>0.092545</td>\n",
       "      <td>0.892457</td>\n",
       "      <td>2020-10-01 05:00:00+00:00</td>\n",
       "    </tr>\n",
       "    <tr>\n",
       "      <th>298</th>\n",
       "      <td>0.092545</td>\n",
       "      <td>0.092593</td>\n",
       "      <td>0.841485</td>\n",
       "      <td>2020-10-01 05:01:00+00:00</td>\n",
       "    </tr>\n",
       "    <tr>\n",
       "      <th>299</th>\n",
       "      <td>0.092593</td>\n",
       "      <td>0.092602</td>\n",
       "      <td>0.641618</td>\n",
       "      <td>2020-10-01 05:02:00+00:00</td>\n",
       "    </tr>\n",
       "  </tbody>\n",
       "</table>\n",
       "<p>300 rows × 4 columns</p>\n",
       "</div>"
      ],
      "text/plain": [
       "         open     close     volume                   datetime\n",
       "0    0.092635  0.092593   2.646372  2020-10-01 00:03:00+00:00\n",
       "1    0.092597  0.092443  47.834038  2020-10-01 00:04:00+00:00\n",
       "2    0.092463  0.092386   1.916095  2020-10-01 00:05:00+00:00\n",
       "3    0.092397  0.092440  14.504379  2020-10-01 00:06:00+00:00\n",
       "4    0.092433  0.092459  18.712856  2020-10-01 00:07:00+00:00\n",
       "..        ...       ...        ...                        ...\n",
       "295  0.092537  0.092537   0.968268  2020-10-01 04:58:00+00:00\n",
       "296  0.092537  0.092541   1.849885  2020-10-01 04:59:00+00:00\n",
       "297  0.092541  0.092545   0.892457  2020-10-01 05:00:00+00:00\n",
       "298  0.092545  0.092593   0.841485  2020-10-01 05:01:00+00:00\n",
       "299  0.092593  0.092602   0.641618  2020-10-01 05:02:00+00:00\n",
       "\n",
       "[300 rows x 4 columns]"
      ]
     },
     "execution_count": 231,
     "metadata": {},
     "output_type": "execute_result"
    }
   ],
   "source": [
    "btc_usd"
   ]
  },
  {
   "cell_type": "code",
   "execution_count": 242,
   "metadata": {},
   "outputs": [],
   "source": [
    "def calculate_time(pddatetime, numtime, plus=True):\n",
    "    if plus:\n",
    "        return pddatetime.to_pydatetime() + timedelta(minutes=numtime)\n",
    "    else: \n",
    "        return pddatetime.to_pydatetime() - timedelta(minutes=numtime)\n",
    "\n",
    "# frame -- dataframe\n",
    "# minute -- the number of minutes to be predicted\n",
    "def predict(frame, minute=3) :\n",
    "    frame = btc_usd.set_index('datetime')\n",
    "    y = frame['open'].resample('1T').mean()\n",
    "    l = frame['close'].resample('1T').mean()\n",
    "    v = frame['volume'].resample('1T').mean()\n",
    "    merged = pd.merge(y, l, on='datetime', how=\"outer\")\n",
    "    frame = pd.merge(merged, v, on='datetime', how=\"outer\")\n",
    "\n",
    "    mod = sm.tsa.VARMAX(frame[['open', 'close', 'volume']], order=(1,0), error_cov_type='diagonal')\n",
    "    results = mod.fit(maxiter=50, disp=False)\n",
    "    print(results.summary().tables[1])\n",
    "    newtime = calculate_time(tick.datetime, minute)\n",
    "    pred = results.get_prediction(start=pd.to_datetime(frame.index[0]), end=newtime, dynamic=False)\n",
    "    pred_ci = pred.conf_int()\n",
    "    print(pred.predicted_mean)\n",
    "    return pred\n",
    "\n",
    "# Call this function for btc prediction\n",
    "#     minute -- the number of minutes to be predicted\n",
    "def predict_btc(minute) :\n",
    "    return predict(btc_usd, minute)\n",
    "    \n",
    "def predict_eth(minute) :\n",
    "    return predict(eth_usd, minute)\n"
   ]
  },
  {
   "cell_type": "markdown",
   "metadata": {},
   "source": [
    "## This part below will be the actual while loop\n",
    "(while is commented out at this point)"
   ]
  },
  {
   "cell_type": "code",
   "execution_count": 243,
   "metadata": {},
   "outputs": [
    {
     "name": "stderr",
     "output_type": "stream",
     "text": [
      "/Users/jiaqilu/opt/anaconda3/lib/python3.7/site-packages/statsmodels/tsa/base/tsa_model.py:162: ValueWarning: No frequency information was provided, so inferred frequency T will be used.\n",
      "  % freq, ValueWarning)\n",
      "/Users/jiaqilu/opt/anaconda3/lib/python3.7/site-packages/statsmodels/base/model.py:568: ConvergenceWarning: Maximum Likelihood optimization failed to converge. Check mle_retvals\n",
      "  \"Check mle_retvals\", ConvergenceWarning)\n"
     ]
    },
    {
     "name": "stdout",
     "output_type": "stream",
     "text": [
      "2020-10-01 00:03:00+00:00\n",
      "================================================================================================\n",
      "Ljung-Box (Q):                 nan, nan, nan   Jarque-Bera (JB):   877495.11, 497362.33, 4505.44\n",
      "Prob(Q):                       nan, nan, nan   Prob(JB):                        0.00, 0.00, 0.00\n",
      "Heteroskedasticity (H): 385.92, 538.73, 0.90   Skew:                        -15.53, -13.33, 3.64\n",
      "Prob(H) (two-sided):        0.00, 0.00, 0.60   Kurtosis:                   264.36, 199.35, 20.40\n",
      "================================================================================================\n",
      "                               open     close     volume\n",
      "2020-10-01 00:03:00+00:00  0.093204  0.093096  11.095174\n",
      "2020-10-01 00:04:00+00:00  0.092241  0.092375   9.380768\n",
      "2020-10-01 00:05:00+00:00  0.094226  0.093861  18.408906\n",
      "2020-10-01 00:06:00+00:00  0.091977  0.092178   9.224137\n",
      "2020-10-01 00:07:00+00:00  0.092633  0.092669  11.744884\n",
      "...                             ...       ...        ...\n",
      "2020-10-01 05:06:00+00:00 -0.010804  0.015236   4.549159\n",
      "2020-10-01 05:07:00+00:00 -0.010850  0.015201   4.355737\n",
      "2020-10-01 05:08:00+00:00 -0.010844  0.015206   4.382241\n",
      "2020-10-01 05:09:00+00:00  0.005789  0.027644   6.003871\n",
      "2020-10-01 05:10:00+00:00  0.019774  0.038115   6.926666\n",
      "\n",
      "[308 rows x 3 columns]\n",
      "                               open     close     volume\n",
      "2020-10-01 00:03:00+00:00  0.093204  0.093096  11.095174\n",
      "2020-10-01 00:04:00+00:00  0.092241  0.092375   9.380768\n",
      "2020-10-01 00:05:00+00:00  0.094226  0.093861  18.408906\n",
      "2020-10-01 00:06:00+00:00  0.091977  0.092178   9.224137\n",
      "2020-10-01 00:07:00+00:00  0.092633  0.092669  11.744884\n",
      "...                             ...       ...        ...\n",
      "2020-10-01 05:06:00+00:00 -0.010804  0.015236   4.549159\n",
      "2020-10-01 05:07:00+00:00 -0.010850  0.015201   4.355737\n",
      "2020-10-01 05:08:00+00:00 -0.010844  0.015206   4.382241\n",
      "2020-10-01 05:09:00+00:00  0.005789  0.027644   6.003871\n",
      "2020-10-01 05:10:00+00:00  0.019774  0.038115   6.926666\n",
      "\n",
      "[308 rows x 3 columns]\n",
      "                           lower open  lower close  lower volume  upper open  \\\n",
      "2020-10-01 00:03:00+00:00    0.075148     0.079591     -1.288620    0.111259   \n",
      "2020-10-01 00:04:00+00:00    0.082277     0.084937     -2.724964    0.102205   \n",
      "2020-10-01 00:05:00+00:00    0.084262     0.086422      6.303174    0.104190   \n",
      "2020-10-01 00:06:00+00:00    0.082012     0.084739     -2.881595    0.101941   \n",
      "2020-10-01 00:07:00+00:00    0.082669     0.085230     -0.360848    0.102597   \n",
      "...                               ...          ...           ...         ...   \n",
      "2020-10-01 05:06:00+00:00   -0.020768     0.007797     -7.556573   -0.000840   \n",
      "2020-10-01 05:07:00+00:00   -0.020814     0.007763     -7.749994   -0.000886   \n",
      "2020-10-01 05:08:00+00:00   -0.020808     0.007767     -7.723491   -0.000879   \n",
      "2020-10-01 05:09:00+00:00   -0.007095     0.018016     -6.348814    0.018674   \n",
      "2020-10-01 05:10:00+00:00    0.005176     0.027202     -5.442084    0.034373   \n",
      "\n",
      "                           upper close  upper volume  \n",
      "2020-10-01 00:03:00+00:00     0.106601     23.478968  \n",
      "2020-10-01 00:04:00+00:00     0.099814     21.486500  \n",
      "2020-10-01 00:05:00+00:00     0.101300     30.514638  \n",
      "2020-10-01 00:06:00+00:00     0.099616     21.329868  \n",
      "2020-10-01 00:07:00+00:00     0.100107     23.850616  \n",
      "...                                ...           ...  \n",
      "2020-10-01 05:06:00+00:00     0.022675     16.654890  \n",
      "2020-10-01 05:07:00+00:00     0.022640     16.461469  \n",
      "2020-10-01 05:08:00+00:00     0.022645     16.487972  \n",
      "2020-10-01 05:09:00+00:00     0.037271     18.356556  \n",
      "2020-10-01 05:10:00+00:00     0.049028     19.295416  \n",
      "\n",
      "[308 rows x 6 columns]\n"
     ]
    },
    {
     "name": "stderr",
     "output_type": "stream",
     "text": [
      "/Users/jiaqilu/opt/anaconda3/lib/python3.7/site-packages/statsmodels/tsa/base/tsa_model.py:162: ValueWarning: No frequency information was provided, so inferred frequency T will be used.\n",
      "  % freq, ValueWarning)\n",
      "/Users/jiaqilu/opt/anaconda3/lib/python3.7/site-packages/statsmodels/tsa/statespace/varmax.py:374: UserWarning: Non-stationary starting autoregressive parameters found. Using zeros as starting parameters.\n",
      "  warn('Non-stationary starting autoregressive parameters'\n"
     ]
    },
    {
     "name": "stdout",
     "output_type": "stream",
     "text": [
      "2020-10-01 00:03:00+00:00\n",
      "================================================================================================\n",
      "Ljung-Box (Q):                 nan, nan, nan   Jarque-Bera (JB):   877495.11, 497362.33, 4505.44\n",
      "Prob(Q):                       nan, nan, nan   Prob(JB):                        0.00, 0.00, 0.00\n",
      "Heteroskedasticity (H): 385.92, 538.73, 0.90   Skew:                        -15.53, -13.33, 3.64\n",
      "Prob(H) (two-sided):        0.00, 0.00, 0.60   Kurtosis:                   264.36, 199.35, 20.40\n",
      "================================================================================================\n",
      "                               open     close     volume\n",
      "2020-10-01 00:03:00+00:00  0.093204  0.093096  11.095174\n",
      "2020-10-01 00:04:00+00:00  0.092241  0.092375   9.380768\n",
      "2020-10-01 00:05:00+00:00  0.094226  0.093861  18.408906\n",
      "2020-10-01 00:06:00+00:00  0.091977  0.092178   9.224137\n",
      "2020-10-01 00:07:00+00:00  0.092633  0.092669  11.744884\n",
      "...                             ...       ...        ...\n",
      "2020-10-01 05:06:00+00:00 -0.010804  0.015236   4.549159\n",
      "2020-10-01 05:07:00+00:00 -0.010850  0.015201   4.355737\n",
      "2020-10-01 05:08:00+00:00 -0.010844  0.015206   4.382241\n",
      "2020-10-01 05:09:00+00:00  0.005789  0.027644   6.003871\n",
      "2020-10-01 05:10:00+00:00  0.019774  0.038115   6.926666\n",
      "\n",
      "[308 rows x 3 columns]\n",
      "                               open     close     volume\n",
      "2020-10-01 00:03:00+00:00  0.093204  0.093096  11.095174\n",
      "2020-10-01 00:04:00+00:00  0.092241  0.092375   9.380768\n",
      "2020-10-01 00:05:00+00:00  0.094226  0.093861  18.408906\n",
      "2020-10-01 00:06:00+00:00  0.091977  0.092178   9.224137\n",
      "2020-10-01 00:07:00+00:00  0.092633  0.092669  11.744884\n",
      "...                             ...       ...        ...\n",
      "2020-10-01 05:06:00+00:00 -0.010804  0.015236   4.549159\n",
      "2020-10-01 05:07:00+00:00 -0.010850  0.015201   4.355737\n",
      "2020-10-01 05:08:00+00:00 -0.010844  0.015206   4.382241\n",
      "2020-10-01 05:09:00+00:00  0.005789  0.027644   6.003871\n",
      "2020-10-01 05:10:00+00:00  0.019774  0.038115   6.926666\n",
      "\n",
      "[308 rows x 3 columns]\n",
      "                           lower open  lower close  lower volume  upper open  \\\n",
      "2020-10-01 00:03:00+00:00    0.075148     0.079591     -1.288620    0.111259   \n",
      "2020-10-01 00:04:00+00:00    0.082277     0.084937     -2.724964    0.102205   \n",
      "2020-10-01 00:05:00+00:00    0.084262     0.086422      6.303174    0.104190   \n",
      "2020-10-01 00:06:00+00:00    0.082012     0.084739     -2.881595    0.101941   \n",
      "2020-10-01 00:07:00+00:00    0.082669     0.085230     -0.360848    0.102597   \n",
      "...                               ...          ...           ...         ...   \n",
      "2020-10-01 05:06:00+00:00   -0.020768     0.007797     -7.556573   -0.000840   \n",
      "2020-10-01 05:07:00+00:00   -0.020814     0.007763     -7.749994   -0.000886   \n",
      "2020-10-01 05:08:00+00:00   -0.020808     0.007767     -7.723491   -0.000879   \n",
      "2020-10-01 05:09:00+00:00   -0.007095     0.018016     -6.348814    0.018674   \n",
      "2020-10-01 05:10:00+00:00    0.005176     0.027202     -5.442084    0.034373   \n",
      "\n",
      "                           upper close  upper volume  \n",
      "2020-10-01 00:03:00+00:00     0.106601     23.478968  \n",
      "2020-10-01 00:04:00+00:00     0.099814     21.486500  \n",
      "2020-10-01 00:05:00+00:00     0.101300     30.514638  \n",
      "2020-10-01 00:06:00+00:00     0.099616     21.329868  \n",
      "2020-10-01 00:07:00+00:00     0.100107     23.850616  \n",
      "...                                ...           ...  \n",
      "2020-10-01 05:06:00+00:00     0.022675     16.654890  \n",
      "2020-10-01 05:07:00+00:00     0.022640     16.461469  \n",
      "2020-10-01 05:08:00+00:00     0.022645     16.487972  \n",
      "2020-10-01 05:09:00+00:00     0.037271     18.356556  \n",
      "2020-10-01 05:10:00+00:00     0.049028     19.295416  \n",
      "\n",
      "[308 rows x 6 columns]\n"
     ]
    },
    {
     "name": "stderr",
     "output_type": "stream",
     "text": [
      "/Users/jiaqilu/opt/anaconda3/lib/python3.7/site-packages/statsmodels/base/model.py:568: ConvergenceWarning: Maximum Likelihood optimization failed to converge. Check mle_retvals\n",
      "  \"Check mle_retvals\", ConvergenceWarning)\n",
      "/Users/jiaqilu/opt/anaconda3/lib/python3.7/site-packages/scipy/stats/_distn_infrastructure.py:903: RuntimeWarning: invalid value encountered in greater\n",
      "  return (a < x) & (x < b)\n",
      "/Users/jiaqilu/opt/anaconda3/lib/python3.7/site-packages/scipy/stats/_distn_infrastructure.py:903: RuntimeWarning: invalid value encountered in less\n",
      "  return (a < x) & (x < b)\n",
      "/Users/jiaqilu/opt/anaconda3/lib/python3.7/site-packages/scipy/stats/_distn_infrastructure.py:1912: RuntimeWarning: invalid value encountered in less_equal\n",
      "  cond2 = cond0 & (x <= _a)\n"
     ]
    }
   ],
   "source": [
    "import random\n",
    "\n",
    "tick = tick_gen.get_tick()\n",
    "(btc_usd, eth_usd, SIZE_LIMIT_REACHED) = append_ticks(tick, btc_usd, eth_usd, SIZE_LIMIT_REACHED)\n",
    "\n",
    "## For the rest of the trading period we will randomly flip our BTC and USD holdings\n",
    "# while tick is not None:\n",
    "    \n",
    "    # 10% chance of attempting to trade\n",
    "if random.uniform(0,1) <= 0.1:\n",
    "    if holding_btc:\n",
    "        # Check the max amount of BTC we can trade my multiplying the volume by the max_taken_volume (0.5 in our case)\n",
    "        available_btc = tick.p.btc_usd.volume * trans_tracker.get_max_taken_volume()\n",
    "        my_btc = trans_tracker.get_holdings()['BTC']\n",
    "        # Only trade if valid\n",
    "        if available_btc >= my_btc:\n",
    "            trans_tracker.make_trade(tick, 'BTC-USD', 'sell', 0.1)\n",
    "            holding_btc = False\n",
    "    else:\n",
    "        # Check the available USD by doing the same operation as above and multiplying by the close price since that is the price that we will execute at\n",
    "        available_usd = tick.p.btc_usd.volume * trans_tracker.get_max_taken_volume() * tick.p.btc_usd.close\n",
    "        my_usd = trans_tracker.get_holdings()['USD']\n",
    "        # Only trade if valid\n",
    "        if available_usd >= my_usd:\n",
    "            trans_tracker.make_trade(tick, 'BTC-USD', 'buy', 0.1)\n",
    "            holding_btc = True\n",
    "\n",
    "# the int passed in here is the number of minutes about to predict\n",
    "pred_usd = predict_btc(3)\n",
    "print(pred_usd.predicted_mean)\n",
    "print(pred_usd.conf_int())\n",
    "pred_eth = predict_eth(3)\n",
    "print(pred_eth.predicted_mean)\n",
    "print(pred_eth.conf_int())"
   ]
  },
  {
   "cell_type": "markdown",
   "metadata": {},
   "source": [
    "Debug Mode"
   ]
  },
  {
   "cell_type": "code",
   "execution_count": null,
   "metadata": {},
   "outputs": [],
   "source": [
    "rec = rec.set_index('datetime')\n",
    "y = rec['open'].resample('1T').mean()\n",
    "l = rec['close'].resample('1T').mean()\n",
    "v = rec['volume'].resample('1T').mean()\n",
    "merged = pd.merge(y, l, on='datetime', how=\"outer\")\n",
    "rec = pd.merge(merged, v, on='datetime', how=\"outer\")\n",
    "\n",
    "mod = sm.tsa.VARMAX(rec[['open', 'close', 'volume']], order=(1,0), error_cov_type='diagonal')\n",
    "results = mod.fit(maxiter=50, disp=False)\n",
    "print(results.summary().tables[1])\n",
    "newtime = tick.datetime.to_pydatetime() + timedelta(minutes=3)\n",
    "pred = results.get_prediction(start=pd.to_datetime('2020-10-01 00:22:00+00:00'), end=newtime, dynamic=False)\n",
    "pred_ci = pred.conf_int()\n",
    "print(pred.predicted_mean)"
   ]
  },
  {
   "cell_type": "markdown",
   "metadata": {},
   "source": [
    "## Visualizing Our Returns\n",
    "\n",
    "Once we have completed trading, we can visualize our returns by calling `plot_btc_holdings()`"
   ]
  },
  {
   "cell_type": "code",
   "execution_count": 19,
   "metadata": {
    "scrolled": false
   },
   "outputs": [
    {
     "ename": "KeyboardInterrupt",
     "evalue": "",
     "output_type": "error",
     "traceback": [
      "\u001b[1;31m---------------------------------------------------------------------------\u001b[0m",
      "\u001b[1;31mKeyboardInterrupt\u001b[0m                         Traceback (most recent call last)",
      "\u001b[1;32m<ipython-input-19-81bf1b7d3f23>\u001b[0m in \u001b[0;36m<module>\u001b[1;34m\u001b[0m\n\u001b[1;32m----> 1\u001b[1;33m \u001b[0mtrans_tracker\u001b[0m\u001b[1;33m.\u001b[0m\u001b[0mplot_btc_holdings\u001b[0m\u001b[1;33m(\u001b[0m\u001b[1;33m)\u001b[0m\u001b[1;33m\u001b[0m\u001b[1;33m\u001b[0m\u001b[0m\n\u001b[0m",
      "\u001b[1;32m~\\Downloads\\ql_datathon\\TDSTransactionTracker.py\u001b[0m in \u001b[0;36mplot_btc_holdings\u001b[1;34m(self)\u001b[0m\n\u001b[0;32m    310\u001b[0m \u001b[1;33m\u001b[0m\u001b[0m\n\u001b[0;32m    311\u001b[0m         \"\"\" \n\u001b[1;32m--> 312\u001b[1;33m         \u001b[0mdf\u001b[0m \u001b[1;33m=\u001b[0m \u001b[0mself\u001b[0m\u001b[1;33m.\u001b[0m\u001b[0mget_btc_holdings_over_time\u001b[0m\u001b[1;33m(\u001b[0m\u001b[1;33m)\u001b[0m\u001b[1;33m\u001b[0m\u001b[1;33m\u001b[0m\u001b[0m\n\u001b[0m\u001b[0;32m    313\u001b[0m         \u001b[0mfig\u001b[0m \u001b[1;33m=\u001b[0m \u001b[0mpx\u001b[0m\u001b[1;33m.\u001b[0m\u001b[0mline\u001b[0m\u001b[1;33m(\u001b[0m\u001b[0mdf\u001b[0m\u001b[1;33m,\u001b[0m \u001b[0mx\u001b[0m\u001b[1;33m=\u001b[0m\u001b[1;34m\"date\"\u001b[0m\u001b[1;33m,\u001b[0m \u001b[0my\u001b[0m\u001b[1;33m=\u001b[0m\u001b[1;34m\"BTC\"\u001b[0m\u001b[1;33m,\u001b[0m \u001b[0mtitle\u001b[0m\u001b[1;33m=\u001b[0m\u001b[1;34mf'BTC from {self.start_date} to {self.end_date}'\u001b[0m\u001b[1;33m)\u001b[0m\u001b[1;33m\u001b[0m\u001b[1;33m\u001b[0m\u001b[0m\n\u001b[0;32m    314\u001b[0m         \u001b[0mfig\u001b[0m\u001b[1;33m.\u001b[0m\u001b[0mshow\u001b[0m\u001b[1;33m(\u001b[0m\u001b[1;33m)\u001b[0m\u001b[1;33m\u001b[0m\u001b[1;33m\u001b[0m\u001b[0m\n",
      "\u001b[1;32m~\\Downloads\\ql_datathon\\TDSTransactionTracker.py\u001b[0m in \u001b[0;36mget_btc_holdings_over_time\u001b[1;34m(self)\u001b[0m\n\u001b[0;32m    287\u001b[0m             \u001b[0mdate_str\u001b[0m \u001b[1;33m=\u001b[0m \u001b[0mstart_dt\u001b[0m\u001b[1;33m.\u001b[0m\u001b[0mstrftime\u001b[0m\u001b[1;33m(\u001b[0m\u001b[1;34m'%Y%m%d'\u001b[0m\u001b[1;33m)\u001b[0m\u001b[1;33m\u001b[0m\u001b[1;33m\u001b[0m\u001b[0m\n\u001b[0;32m    288\u001b[0m             \u001b[0mholdings\u001b[0m \u001b[1;33m=\u001b[0m \u001b[0mself\u001b[0m\u001b[1;33m.\u001b[0m\u001b[0mget_holdings_for_date\u001b[0m\u001b[1;33m(\u001b[0m\u001b[0mdate_str\u001b[0m\u001b[1;33m)\u001b[0m\u001b[1;33m\u001b[0m\u001b[1;33m\u001b[0m\u001b[0m\n\u001b[1;32m--> 289\u001b[1;33m             \u001b[0mholdings_dict\u001b[0m\u001b[1;33m[\u001b[0m\u001b[0mdate_str\u001b[0m\u001b[1;33m]\u001b[0m \u001b[1;33m=\u001b[0m \u001b[0mself\u001b[0m\u001b[1;33m.\u001b[0m\u001b[0mget_btc_holdings\u001b[0m\u001b[1;33m(\u001b[0m\u001b[0mholdings\u001b[0m\u001b[1;33m,\u001b[0m \u001b[0mdate_str\u001b[0m\u001b[1;33m)\u001b[0m\u001b[1;33m\u001b[0m\u001b[1;33m\u001b[0m\u001b[0m\n\u001b[0m\u001b[0;32m    290\u001b[0m             \u001b[0mstart_dt\u001b[0m \u001b[1;33m+=\u001b[0m \u001b[0mtimedelta\u001b[0m\u001b[1;33m(\u001b[0m\u001b[0mdays\u001b[0m\u001b[1;33m=\u001b[0m\u001b[1;36m1\u001b[0m\u001b[1;33m)\u001b[0m\u001b[1;33m\u001b[0m\u001b[1;33m\u001b[0m\u001b[0m\n\u001b[0;32m    291\u001b[0m \u001b[1;33m\u001b[0m\u001b[0m\n",
      "\u001b[1;32m~\\Downloads\\ql_datathon\\TDSTransactionTracker.py\u001b[0m in \u001b[0;36mget_btc_holdings\u001b[1;34m(self, holdings, date)\u001b[0m\n\u001b[0;32m    223\u001b[0m         \u001b[0mnecessary_products\u001b[0m \u001b[1;33m=\u001b[0m \u001b[0mlist\u001b[0m\u001b[1;33m(\u001b[0m\u001b[0mset\u001b[0m\u001b[1;33m(\u001b[0m\u001b[0mnecessary_products\u001b[0m\u001b[1;33m)\u001b[0m\u001b[1;33m)\u001b[0m\u001b[1;33m\u001b[0m\u001b[1;33m\u001b[0m\u001b[0m\n\u001b[0;32m    224\u001b[0m         \u001b[0mcb_obj\u001b[0m \u001b[1;33m=\u001b[0m \u001b[0mTDSCoinbaseData\u001b[0m\u001b[1;33m(\u001b[0m\u001b[0mcache_path\u001b[0m\u001b[1;33m=\u001b[0m\u001b[1;34m'data'\u001b[0m\u001b[1;33m)\u001b[0m\u001b[1;33m\u001b[0m\u001b[1;33m\u001b[0m\u001b[0m\n\u001b[1;32m--> 225\u001b[1;33m         \u001b[0mtick_gen\u001b[0m \u001b[1;33m=\u001b[0m \u001b[0mTDSTickGenerator\u001b[0m\u001b[1;33m(\u001b[0m\u001b[0mcb_obj\u001b[0m\u001b[1;33m,\u001b[0m \u001b[0mnecessary_products\u001b[0m\u001b[1;33m,\u001b[0m \u001b[0mdate\u001b[0m\u001b[1;33m,\u001b[0m \u001b[0mdate\u001b[0m\u001b[1;33m,\u001b[0m \u001b[0minterval\u001b[0m\u001b[1;33m=\u001b[0m\u001b[1;36m86400\u001b[0m\u001b[1;33m)\u001b[0m\u001b[1;33m\u001b[0m\u001b[1;33m\u001b[0m\u001b[0m\n\u001b[0m\u001b[0;32m    226\u001b[0m         \u001b[0mtick\u001b[0m \u001b[1;33m=\u001b[0m \u001b[0mtick_gen\u001b[0m\u001b[1;33m.\u001b[0m\u001b[0mget_tick\u001b[0m\u001b[1;33m(\u001b[0m\u001b[1;33m)\u001b[0m\u001b[1;33m\u001b[0m\u001b[1;33m\u001b[0m\u001b[0m\n\u001b[0;32m    227\u001b[0m \u001b[1;33m\u001b[0m\u001b[0m\n",
      "\u001b[1;32m~\\Downloads\\ql_datathon\\TDSTickGenerator.py\u001b[0m in \u001b[0;36m__init__\u001b[1;34m(self, cb_data_obj, products, start_date, end_date, interval)\u001b[0m\n\u001b[0;32m     58\u001b[0m         \u001b[0mself\u001b[0m\u001b[1;33m.\u001b[0m\u001b[0minterval\u001b[0m \u001b[1;33m=\u001b[0m \u001b[0minterval\u001b[0m\u001b[1;33m\u001b[0m\u001b[1;33m\u001b[0m\u001b[0m\n\u001b[0;32m     59\u001b[0m \u001b[1;33m\u001b[0m\u001b[0m\n\u001b[1;32m---> 60\u001b[1;33m         \u001b[0mself\u001b[0m\u001b[1;33m.\u001b[0m\u001b[0msetup_date\u001b[0m\u001b[1;33m(\u001b[0m\u001b[0mstart_date\u001b[0m\u001b[1;33m)\u001b[0m\u001b[1;33m\u001b[0m\u001b[1;33m\u001b[0m\u001b[0m\n\u001b[0m\u001b[0;32m     61\u001b[0m \u001b[1;33m\u001b[0m\u001b[0m\n\u001b[0;32m     62\u001b[0m \u001b[1;33m\u001b[0m\u001b[0m\n",
      "\u001b[1;32m~\\Downloads\\ql_datathon\\TDSTickGenerator.py\u001b[0m in \u001b[0;36msetup_date\u001b[1;34m(self, date)\u001b[0m\n\u001b[0;32m     82\u001b[0m \u001b[1;33m\u001b[0m\u001b[0m\n\u001b[0;32m     83\u001b[0m         \u001b[1;32mfor\u001b[0m \u001b[0mproduct\u001b[0m \u001b[1;32min\u001b[0m \u001b[0mself\u001b[0m\u001b[1;33m.\u001b[0m\u001b[0mproducts\u001b[0m\u001b[1;33m:\u001b[0m\u001b[1;33m\u001b[0m\u001b[1;33m\u001b[0m\u001b[0m\n\u001b[1;32m---> 84\u001b[1;33m             \u001b[0mprod_df\u001b[0m \u001b[1;33m=\u001b[0m \u001b[0mself\u001b[0m\u001b[1;33m.\u001b[0m\u001b[0mcb_data_obj\u001b[0m\u001b[1;33m.\u001b[0m\u001b[0mget_single_day_market_data\u001b[0m\u001b[1;33m(\u001b[0m\u001b[0mproduct\u001b[0m\u001b[1;33m,\u001b[0m \u001b[0mdate\u001b[0m\u001b[1;33m,\u001b[0m \u001b[0mself\u001b[0m\u001b[1;33m.\u001b[0m\u001b[0minterval\u001b[0m\u001b[1;33m)\u001b[0m\u001b[1;33m\u001b[0m\u001b[1;33m\u001b[0m\u001b[0m\n\u001b[0m\u001b[0;32m     85\u001b[0m             \u001b[0mprod_df\u001b[0m \u001b[1;33m=\u001b[0m \u001b[0mprod_df\u001b[0m\u001b[1;33m.\u001b[0m\u001b[0mset_index\u001b[0m\u001b[1;33m(\u001b[0m\u001b[1;34m'timestamp'\u001b[0m\u001b[1;33m)\u001b[0m\u001b[1;33m\u001b[0m\u001b[1;33m\u001b[0m\u001b[0m\n\u001b[0;32m     86\u001b[0m             \u001b[0mprod_dict\u001b[0m \u001b[1;33m=\u001b[0m \u001b[0mprod_df\u001b[0m\u001b[1;33m.\u001b[0m\u001b[0mto_dict\u001b[0m\u001b[1;33m(\u001b[0m\u001b[1;34m'index'\u001b[0m\u001b[1;33m)\u001b[0m\u001b[1;33m\u001b[0m\u001b[1;33m\u001b[0m\u001b[0m\n",
      "\u001b[1;32m~\\Downloads\\ql_datathon\\TDSCoinbaseData.py\u001b[0m in \u001b[0;36mget_single_day_market_data\u001b[1;34m(self, product, date, interval)\u001b[0m\n\u001b[0;32m    266\u001b[0m         \u001b[1;31m# otherwise fetch data from the coinbase pro api\u001b[0m\u001b[1;33m\u001b[0m\u001b[1;33m\u001b[0m\u001b[1;33m\u001b[0m\u001b[0m\n\u001b[0;32m    267\u001b[0m         \u001b[1;32melse\u001b[0m\u001b[1;33m:\u001b[0m\u001b[1;33m\u001b[0m\u001b[1;33m\u001b[0m\u001b[0m\n\u001b[1;32m--> 268\u001b[1;33m             \u001b[0mdf\u001b[0m \u001b[1;33m=\u001b[0m \u001b[0mself\u001b[0m\u001b[1;33m.\u001b[0m\u001b[0mget_single_day_from_api\u001b[0m\u001b[1;33m(\u001b[0m\u001b[0mproduct\u001b[0m\u001b[1;33m,\u001b[0m \u001b[0mdate\u001b[0m\u001b[1;33m,\u001b[0m \u001b[0minterval\u001b[0m\u001b[1;33m)\u001b[0m\u001b[1;33m\u001b[0m\u001b[1;33m\u001b[0m\u001b[0m\n\u001b[0m\u001b[0;32m    269\u001b[0m \u001b[1;33m\u001b[0m\u001b[0m\n\u001b[0;32m    270\u001b[0m         \u001b[0mdf\u001b[0m\u001b[1;33m[\u001b[0m\u001b[1;34m'datetime'\u001b[0m\u001b[1;33m]\u001b[0m \u001b[1;33m=\u001b[0m \u001b[0mpd\u001b[0m\u001b[1;33m.\u001b[0m\u001b[0mto_datetime\u001b[0m\u001b[1;33m(\u001b[0m\u001b[0mdf\u001b[0m\u001b[1;33m[\u001b[0m\u001b[1;34m'datetime'\u001b[0m\u001b[1;33m]\u001b[0m\u001b[1;33m,\u001b[0m \u001b[0mutc\u001b[0m\u001b[1;33m=\u001b[0m\u001b[1;32mTrue\u001b[0m\u001b[1;33m)\u001b[0m\u001b[1;33m\u001b[0m\u001b[1;33m\u001b[0m\u001b[0m\n",
      "\u001b[1;32m~\\Downloads\\ql_datathon\\TDSCoinbaseData.py\u001b[0m in \u001b[0;36mget_single_day_from_api\u001b[1;34m(self, product, date, interval, max_retries)\u001b[0m\n\u001b[0;32m    206\u001b[0m \u001b[1;33m\u001b[0m\u001b[0m\n\u001b[0;32m    207\u001b[0m \u001b[1;33m\u001b[0m\u001b[0m\n\u001b[1;32m--> 208\u001b[1;33m             \u001b[0mdata\u001b[0m \u001b[1;33m=\u001b[0m \u001b[0mrequests\u001b[0m\u001b[1;33m.\u001b[0m\u001b[0mget\u001b[0m\u001b[1;33m(\u001b[0m\u001b[0mself\u001b[0m\u001b[1;33m.\u001b[0m\u001b[0mAPI_URL\u001b[0m \u001b[1;33m+\u001b[0m \u001b[1;34mf\"products/{product}/candles\"\u001b[0m\u001b[1;33m,\u001b[0m \u001b[0mparams\u001b[0m\u001b[1;33m=\u001b[0m\u001b[0mparams\u001b[0m\u001b[1;33m)\u001b[0m\u001b[1;33m\u001b[0m\u001b[1;33m\u001b[0m\u001b[0m\n\u001b[0m\u001b[0;32m    209\u001b[0m \u001b[1;33m\u001b[0m\u001b[0m\n\u001b[0;32m    210\u001b[0m             \u001b[1;31m# retur get up to 7 times\u001b[0m\u001b[1;33m\u001b[0m\u001b[1;33m\u001b[0m\u001b[1;33m\u001b[0m\u001b[0m\n",
      "\u001b[1;32m~\\anaconda3\\lib\\site-packages\\requests\\api.py\u001b[0m in \u001b[0;36mget\u001b[1;34m(url, params, **kwargs)\u001b[0m\n\u001b[0;32m     74\u001b[0m \u001b[1;33m\u001b[0m\u001b[0m\n\u001b[0;32m     75\u001b[0m     \u001b[0mkwargs\u001b[0m\u001b[1;33m.\u001b[0m\u001b[0msetdefault\u001b[0m\u001b[1;33m(\u001b[0m\u001b[1;34m'allow_redirects'\u001b[0m\u001b[1;33m,\u001b[0m \u001b[1;32mTrue\u001b[0m\u001b[1;33m)\u001b[0m\u001b[1;33m\u001b[0m\u001b[1;33m\u001b[0m\u001b[0m\n\u001b[1;32m---> 76\u001b[1;33m     \u001b[1;32mreturn\u001b[0m \u001b[0mrequest\u001b[0m\u001b[1;33m(\u001b[0m\u001b[1;34m'get'\u001b[0m\u001b[1;33m,\u001b[0m \u001b[0murl\u001b[0m\u001b[1;33m,\u001b[0m \u001b[0mparams\u001b[0m\u001b[1;33m=\u001b[0m\u001b[0mparams\u001b[0m\u001b[1;33m,\u001b[0m \u001b[1;33m**\u001b[0m\u001b[0mkwargs\u001b[0m\u001b[1;33m)\u001b[0m\u001b[1;33m\u001b[0m\u001b[1;33m\u001b[0m\u001b[0m\n\u001b[0m\u001b[0;32m     77\u001b[0m \u001b[1;33m\u001b[0m\u001b[0m\n\u001b[0;32m     78\u001b[0m \u001b[1;33m\u001b[0m\u001b[0m\n",
      "\u001b[1;32m~\\anaconda3\\lib\\site-packages\\requests\\api.py\u001b[0m in \u001b[0;36mrequest\u001b[1;34m(method, url, **kwargs)\u001b[0m\n\u001b[0;32m     59\u001b[0m     \u001b[1;31m# cases, and look like a memory leak in others.\u001b[0m\u001b[1;33m\u001b[0m\u001b[1;33m\u001b[0m\u001b[1;33m\u001b[0m\u001b[0m\n\u001b[0;32m     60\u001b[0m     \u001b[1;32mwith\u001b[0m \u001b[0msessions\u001b[0m\u001b[1;33m.\u001b[0m\u001b[0mSession\u001b[0m\u001b[1;33m(\u001b[0m\u001b[1;33m)\u001b[0m \u001b[1;32mas\u001b[0m \u001b[0msession\u001b[0m\u001b[1;33m:\u001b[0m\u001b[1;33m\u001b[0m\u001b[1;33m\u001b[0m\u001b[0m\n\u001b[1;32m---> 61\u001b[1;33m         \u001b[1;32mreturn\u001b[0m \u001b[0msession\u001b[0m\u001b[1;33m.\u001b[0m\u001b[0mrequest\u001b[0m\u001b[1;33m(\u001b[0m\u001b[0mmethod\u001b[0m\u001b[1;33m=\u001b[0m\u001b[0mmethod\u001b[0m\u001b[1;33m,\u001b[0m \u001b[0murl\u001b[0m\u001b[1;33m=\u001b[0m\u001b[0murl\u001b[0m\u001b[1;33m,\u001b[0m \u001b[1;33m**\u001b[0m\u001b[0mkwargs\u001b[0m\u001b[1;33m)\u001b[0m\u001b[1;33m\u001b[0m\u001b[1;33m\u001b[0m\u001b[0m\n\u001b[0m\u001b[0;32m     62\u001b[0m \u001b[1;33m\u001b[0m\u001b[0m\n\u001b[0;32m     63\u001b[0m \u001b[1;33m\u001b[0m\u001b[0m\n",
      "\u001b[1;32m~\\anaconda3\\lib\\site-packages\\requests\\sessions.py\u001b[0m in \u001b[0;36mrequest\u001b[1;34m(self, method, url, params, data, headers, cookies, files, auth, timeout, allow_redirects, proxies, hooks, stream, verify, cert, json)\u001b[0m\n\u001b[0;32m    528\u001b[0m         }\n\u001b[0;32m    529\u001b[0m         \u001b[0msend_kwargs\u001b[0m\u001b[1;33m.\u001b[0m\u001b[0mupdate\u001b[0m\u001b[1;33m(\u001b[0m\u001b[0msettings\u001b[0m\u001b[1;33m)\u001b[0m\u001b[1;33m\u001b[0m\u001b[1;33m\u001b[0m\u001b[0m\n\u001b[1;32m--> 530\u001b[1;33m         \u001b[0mresp\u001b[0m \u001b[1;33m=\u001b[0m \u001b[0mself\u001b[0m\u001b[1;33m.\u001b[0m\u001b[0msend\u001b[0m\u001b[1;33m(\u001b[0m\u001b[0mprep\u001b[0m\u001b[1;33m,\u001b[0m \u001b[1;33m**\u001b[0m\u001b[0msend_kwargs\u001b[0m\u001b[1;33m)\u001b[0m\u001b[1;33m\u001b[0m\u001b[1;33m\u001b[0m\u001b[0m\n\u001b[0m\u001b[0;32m    531\u001b[0m \u001b[1;33m\u001b[0m\u001b[0m\n\u001b[0;32m    532\u001b[0m         \u001b[1;32mreturn\u001b[0m \u001b[0mresp\u001b[0m\u001b[1;33m\u001b[0m\u001b[1;33m\u001b[0m\u001b[0m\n",
      "\u001b[1;32m~\\anaconda3\\lib\\site-packages\\requests\\sessions.py\u001b[0m in \u001b[0;36msend\u001b[1;34m(self, request, **kwargs)\u001b[0m\n\u001b[0;32m    641\u001b[0m \u001b[1;33m\u001b[0m\u001b[0m\n\u001b[0;32m    642\u001b[0m         \u001b[1;31m# Send the request\u001b[0m\u001b[1;33m\u001b[0m\u001b[1;33m\u001b[0m\u001b[1;33m\u001b[0m\u001b[0m\n\u001b[1;32m--> 643\u001b[1;33m         \u001b[0mr\u001b[0m \u001b[1;33m=\u001b[0m \u001b[0madapter\u001b[0m\u001b[1;33m.\u001b[0m\u001b[0msend\u001b[0m\u001b[1;33m(\u001b[0m\u001b[0mrequest\u001b[0m\u001b[1;33m,\u001b[0m \u001b[1;33m**\u001b[0m\u001b[0mkwargs\u001b[0m\u001b[1;33m)\u001b[0m\u001b[1;33m\u001b[0m\u001b[1;33m\u001b[0m\u001b[0m\n\u001b[0m\u001b[0;32m    644\u001b[0m \u001b[1;33m\u001b[0m\u001b[0m\n\u001b[0;32m    645\u001b[0m         \u001b[1;31m# Total elapsed time of the request (approximately)\u001b[0m\u001b[1;33m\u001b[0m\u001b[1;33m\u001b[0m\u001b[1;33m\u001b[0m\u001b[0m\n",
      "\u001b[1;32m~\\anaconda3\\lib\\site-packages\\requests\\adapters.py\u001b[0m in \u001b[0;36msend\u001b[1;34m(self, request, stream, timeout, verify, cert, proxies)\u001b[0m\n\u001b[0;32m    437\u001b[0m         \u001b[1;32mtry\u001b[0m\u001b[1;33m:\u001b[0m\u001b[1;33m\u001b[0m\u001b[1;33m\u001b[0m\u001b[0m\n\u001b[0;32m    438\u001b[0m             \u001b[1;32mif\u001b[0m \u001b[1;32mnot\u001b[0m \u001b[0mchunked\u001b[0m\u001b[1;33m:\u001b[0m\u001b[1;33m\u001b[0m\u001b[1;33m\u001b[0m\u001b[0m\n\u001b[1;32m--> 439\u001b[1;33m                 resp = conn.urlopen(\n\u001b[0m\u001b[0;32m    440\u001b[0m                     \u001b[0mmethod\u001b[0m\u001b[1;33m=\u001b[0m\u001b[0mrequest\u001b[0m\u001b[1;33m.\u001b[0m\u001b[0mmethod\u001b[0m\u001b[1;33m,\u001b[0m\u001b[1;33m\u001b[0m\u001b[1;33m\u001b[0m\u001b[0m\n\u001b[0;32m    441\u001b[0m                     \u001b[0murl\u001b[0m\u001b[1;33m=\u001b[0m\u001b[0murl\u001b[0m\u001b[1;33m,\u001b[0m\u001b[1;33m\u001b[0m\u001b[1;33m\u001b[0m\u001b[0m\n",
      "\u001b[1;32m~\\anaconda3\\lib\\site-packages\\urllib3\\connectionpool.py\u001b[0m in \u001b[0;36murlopen\u001b[1;34m(self, method, url, body, headers, retries, redirect, assert_same_host, timeout, pool_timeout, release_conn, chunked, body_pos, **response_kw)\u001b[0m\n\u001b[0;32m    668\u001b[0m \u001b[1;33m\u001b[0m\u001b[0m\n\u001b[0;32m    669\u001b[0m             \u001b[1;31m# Make the request on the httplib connection object.\u001b[0m\u001b[1;33m\u001b[0m\u001b[1;33m\u001b[0m\u001b[1;33m\u001b[0m\u001b[0m\n\u001b[1;32m--> 670\u001b[1;33m             httplib_response = self._make_request(\n\u001b[0m\u001b[0;32m    671\u001b[0m                 \u001b[0mconn\u001b[0m\u001b[1;33m,\u001b[0m\u001b[1;33m\u001b[0m\u001b[1;33m\u001b[0m\u001b[0m\n\u001b[0;32m    672\u001b[0m                 \u001b[0mmethod\u001b[0m\u001b[1;33m,\u001b[0m\u001b[1;33m\u001b[0m\u001b[1;33m\u001b[0m\u001b[0m\n",
      "\u001b[1;32m~\\anaconda3\\lib\\site-packages\\urllib3\\connectionpool.py\u001b[0m in \u001b[0;36m_make_request\u001b[1;34m(self, conn, method, url, timeout, chunked, **httplib_request_kw)\u001b[0m\n\u001b[0;32m    424\u001b[0m                     \u001b[1;31m# Python 3 (including for exceptions like SystemExit).\u001b[0m\u001b[1;33m\u001b[0m\u001b[1;33m\u001b[0m\u001b[1;33m\u001b[0m\u001b[0m\n\u001b[0;32m    425\u001b[0m                     \u001b[1;31m# Otherwise it looks like a bug in the code.\u001b[0m\u001b[1;33m\u001b[0m\u001b[1;33m\u001b[0m\u001b[1;33m\u001b[0m\u001b[0m\n\u001b[1;32m--> 426\u001b[1;33m                     \u001b[0msix\u001b[0m\u001b[1;33m.\u001b[0m\u001b[0mraise_from\u001b[0m\u001b[1;33m(\u001b[0m\u001b[0me\u001b[0m\u001b[1;33m,\u001b[0m \u001b[1;32mNone\u001b[0m\u001b[1;33m)\u001b[0m\u001b[1;33m\u001b[0m\u001b[1;33m\u001b[0m\u001b[0m\n\u001b[0m\u001b[0;32m    427\u001b[0m         \u001b[1;32mexcept\u001b[0m \u001b[1;33m(\u001b[0m\u001b[0mSocketTimeout\u001b[0m\u001b[1;33m,\u001b[0m \u001b[0mBaseSSLError\u001b[0m\u001b[1;33m,\u001b[0m \u001b[0mSocketError\u001b[0m\u001b[1;33m)\u001b[0m \u001b[1;32mas\u001b[0m \u001b[0me\u001b[0m\u001b[1;33m:\u001b[0m\u001b[1;33m\u001b[0m\u001b[1;33m\u001b[0m\u001b[0m\n\u001b[0;32m    428\u001b[0m             \u001b[0mself\u001b[0m\u001b[1;33m.\u001b[0m\u001b[0m_raise_timeout\u001b[0m\u001b[1;33m(\u001b[0m\u001b[0merr\u001b[0m\u001b[1;33m=\u001b[0m\u001b[0me\u001b[0m\u001b[1;33m,\u001b[0m \u001b[0murl\u001b[0m\u001b[1;33m=\u001b[0m\u001b[0murl\u001b[0m\u001b[1;33m,\u001b[0m \u001b[0mtimeout_value\u001b[0m\u001b[1;33m=\u001b[0m\u001b[0mread_timeout\u001b[0m\u001b[1;33m)\u001b[0m\u001b[1;33m\u001b[0m\u001b[1;33m\u001b[0m\u001b[0m\n",
      "\u001b[1;32m~\\anaconda3\\lib\\site-packages\\urllib3\\packages\\six.py\u001b[0m in \u001b[0;36mraise_from\u001b[1;34m(value, from_value)\u001b[0m\n",
      "\u001b[1;32m~\\anaconda3\\lib\\site-packages\\urllib3\\connectionpool.py\u001b[0m in \u001b[0;36m_make_request\u001b[1;34m(self, conn, method, url, timeout, chunked, **httplib_request_kw)\u001b[0m\n\u001b[0;32m    419\u001b[0m                 \u001b[1;31m# Python 3\u001b[0m\u001b[1;33m\u001b[0m\u001b[1;33m\u001b[0m\u001b[1;33m\u001b[0m\u001b[0m\n\u001b[0;32m    420\u001b[0m                 \u001b[1;32mtry\u001b[0m\u001b[1;33m:\u001b[0m\u001b[1;33m\u001b[0m\u001b[1;33m\u001b[0m\u001b[0m\n\u001b[1;32m--> 421\u001b[1;33m                     \u001b[0mhttplib_response\u001b[0m \u001b[1;33m=\u001b[0m \u001b[0mconn\u001b[0m\u001b[1;33m.\u001b[0m\u001b[0mgetresponse\u001b[0m\u001b[1;33m(\u001b[0m\u001b[1;33m)\u001b[0m\u001b[1;33m\u001b[0m\u001b[1;33m\u001b[0m\u001b[0m\n\u001b[0m\u001b[0;32m    422\u001b[0m                 \u001b[1;32mexcept\u001b[0m \u001b[0mBaseException\u001b[0m \u001b[1;32mas\u001b[0m \u001b[0me\u001b[0m\u001b[1;33m:\u001b[0m\u001b[1;33m\u001b[0m\u001b[1;33m\u001b[0m\u001b[0m\n\u001b[0;32m    423\u001b[0m                     \u001b[1;31m# Remove the TypeError from the exception chain in\u001b[0m\u001b[1;33m\u001b[0m\u001b[1;33m\u001b[0m\u001b[1;33m\u001b[0m\u001b[0m\n",
      "\u001b[1;32m~\\anaconda3\\lib\\http\\client.py\u001b[0m in \u001b[0;36mgetresponse\u001b[1;34m(self)\u001b[0m\n\u001b[0;32m   1345\u001b[0m         \u001b[1;32mtry\u001b[0m\u001b[1;33m:\u001b[0m\u001b[1;33m\u001b[0m\u001b[1;33m\u001b[0m\u001b[0m\n\u001b[0;32m   1346\u001b[0m             \u001b[1;32mtry\u001b[0m\u001b[1;33m:\u001b[0m\u001b[1;33m\u001b[0m\u001b[1;33m\u001b[0m\u001b[0m\n\u001b[1;32m-> 1347\u001b[1;33m                 \u001b[0mresponse\u001b[0m\u001b[1;33m.\u001b[0m\u001b[0mbegin\u001b[0m\u001b[1;33m(\u001b[0m\u001b[1;33m)\u001b[0m\u001b[1;33m\u001b[0m\u001b[1;33m\u001b[0m\u001b[0m\n\u001b[0m\u001b[0;32m   1348\u001b[0m             \u001b[1;32mexcept\u001b[0m \u001b[0mConnectionError\u001b[0m\u001b[1;33m:\u001b[0m\u001b[1;33m\u001b[0m\u001b[1;33m\u001b[0m\u001b[0m\n\u001b[0;32m   1349\u001b[0m                 \u001b[0mself\u001b[0m\u001b[1;33m.\u001b[0m\u001b[0mclose\u001b[0m\u001b[1;33m(\u001b[0m\u001b[1;33m)\u001b[0m\u001b[1;33m\u001b[0m\u001b[1;33m\u001b[0m\u001b[0m\n",
      "\u001b[1;32m~\\anaconda3\\lib\\http\\client.py\u001b[0m in \u001b[0;36mbegin\u001b[1;34m(self)\u001b[0m\n\u001b[0;32m    305\u001b[0m         \u001b[1;31m# read until we get a non-100 response\u001b[0m\u001b[1;33m\u001b[0m\u001b[1;33m\u001b[0m\u001b[1;33m\u001b[0m\u001b[0m\n\u001b[0;32m    306\u001b[0m         \u001b[1;32mwhile\u001b[0m \u001b[1;32mTrue\u001b[0m\u001b[1;33m:\u001b[0m\u001b[1;33m\u001b[0m\u001b[1;33m\u001b[0m\u001b[0m\n\u001b[1;32m--> 307\u001b[1;33m             \u001b[0mversion\u001b[0m\u001b[1;33m,\u001b[0m \u001b[0mstatus\u001b[0m\u001b[1;33m,\u001b[0m \u001b[0mreason\u001b[0m \u001b[1;33m=\u001b[0m \u001b[0mself\u001b[0m\u001b[1;33m.\u001b[0m\u001b[0m_read_status\u001b[0m\u001b[1;33m(\u001b[0m\u001b[1;33m)\u001b[0m\u001b[1;33m\u001b[0m\u001b[1;33m\u001b[0m\u001b[0m\n\u001b[0m\u001b[0;32m    308\u001b[0m             \u001b[1;32mif\u001b[0m \u001b[0mstatus\u001b[0m \u001b[1;33m!=\u001b[0m \u001b[0mCONTINUE\u001b[0m\u001b[1;33m:\u001b[0m\u001b[1;33m\u001b[0m\u001b[1;33m\u001b[0m\u001b[0m\n\u001b[0;32m    309\u001b[0m                 \u001b[1;32mbreak\u001b[0m\u001b[1;33m\u001b[0m\u001b[1;33m\u001b[0m\u001b[0m\n",
      "\u001b[1;32m~\\anaconda3\\lib\\http\\client.py\u001b[0m in \u001b[0;36m_read_status\u001b[1;34m(self)\u001b[0m\n\u001b[0;32m    266\u001b[0m \u001b[1;33m\u001b[0m\u001b[0m\n\u001b[0;32m    267\u001b[0m     \u001b[1;32mdef\u001b[0m \u001b[0m_read_status\u001b[0m\u001b[1;33m(\u001b[0m\u001b[0mself\u001b[0m\u001b[1;33m)\u001b[0m\u001b[1;33m:\u001b[0m\u001b[1;33m\u001b[0m\u001b[1;33m\u001b[0m\u001b[0m\n\u001b[1;32m--> 268\u001b[1;33m         \u001b[0mline\u001b[0m \u001b[1;33m=\u001b[0m \u001b[0mstr\u001b[0m\u001b[1;33m(\u001b[0m\u001b[0mself\u001b[0m\u001b[1;33m.\u001b[0m\u001b[0mfp\u001b[0m\u001b[1;33m.\u001b[0m\u001b[0mreadline\u001b[0m\u001b[1;33m(\u001b[0m\u001b[0m_MAXLINE\u001b[0m \u001b[1;33m+\u001b[0m \u001b[1;36m1\u001b[0m\u001b[1;33m)\u001b[0m\u001b[1;33m,\u001b[0m \u001b[1;34m\"iso-8859-1\"\u001b[0m\u001b[1;33m)\u001b[0m\u001b[1;33m\u001b[0m\u001b[1;33m\u001b[0m\u001b[0m\n\u001b[0m\u001b[0;32m    269\u001b[0m         \u001b[1;32mif\u001b[0m \u001b[0mlen\u001b[0m\u001b[1;33m(\u001b[0m\u001b[0mline\u001b[0m\u001b[1;33m)\u001b[0m \u001b[1;33m>\u001b[0m \u001b[0m_MAXLINE\u001b[0m\u001b[1;33m:\u001b[0m\u001b[1;33m\u001b[0m\u001b[1;33m\u001b[0m\u001b[0m\n\u001b[0;32m    270\u001b[0m             \u001b[1;32mraise\u001b[0m \u001b[0mLineTooLong\u001b[0m\u001b[1;33m(\u001b[0m\u001b[1;34m\"status line\"\u001b[0m\u001b[1;33m)\u001b[0m\u001b[1;33m\u001b[0m\u001b[1;33m\u001b[0m\u001b[0m\n",
      "\u001b[1;32m~\\anaconda3\\lib\\socket.py\u001b[0m in \u001b[0;36mreadinto\u001b[1;34m(self, b)\u001b[0m\n\u001b[0;32m    667\u001b[0m         \u001b[1;32mwhile\u001b[0m \u001b[1;32mTrue\u001b[0m\u001b[1;33m:\u001b[0m\u001b[1;33m\u001b[0m\u001b[1;33m\u001b[0m\u001b[0m\n\u001b[0;32m    668\u001b[0m             \u001b[1;32mtry\u001b[0m\u001b[1;33m:\u001b[0m\u001b[1;33m\u001b[0m\u001b[1;33m\u001b[0m\u001b[0m\n\u001b[1;32m--> 669\u001b[1;33m                 \u001b[1;32mreturn\u001b[0m \u001b[0mself\u001b[0m\u001b[1;33m.\u001b[0m\u001b[0m_sock\u001b[0m\u001b[1;33m.\u001b[0m\u001b[0mrecv_into\u001b[0m\u001b[1;33m(\u001b[0m\u001b[0mb\u001b[0m\u001b[1;33m)\u001b[0m\u001b[1;33m\u001b[0m\u001b[1;33m\u001b[0m\u001b[0m\n\u001b[0m\u001b[0;32m    670\u001b[0m             \u001b[1;32mexcept\u001b[0m \u001b[0mtimeout\u001b[0m\u001b[1;33m:\u001b[0m\u001b[1;33m\u001b[0m\u001b[1;33m\u001b[0m\u001b[0m\n\u001b[0;32m    671\u001b[0m                 \u001b[0mself\u001b[0m\u001b[1;33m.\u001b[0m\u001b[0m_timeout_occurred\u001b[0m \u001b[1;33m=\u001b[0m \u001b[1;32mTrue\u001b[0m\u001b[1;33m\u001b[0m\u001b[1;33m\u001b[0m\u001b[0m\n",
      "\u001b[1;32m~\\anaconda3\\lib\\ssl.py\u001b[0m in \u001b[0;36mrecv_into\u001b[1;34m(self, buffer, nbytes, flags)\u001b[0m\n\u001b[0;32m   1239\u001b[0m                   \u001b[1;34m\"non-zero flags not allowed in calls to recv_into() on %s\"\u001b[0m \u001b[1;33m%\u001b[0m\u001b[1;33m\u001b[0m\u001b[1;33m\u001b[0m\u001b[0m\n\u001b[0;32m   1240\u001b[0m                   self.__class__)\n\u001b[1;32m-> 1241\u001b[1;33m             \u001b[1;32mreturn\u001b[0m \u001b[0mself\u001b[0m\u001b[1;33m.\u001b[0m\u001b[0mread\u001b[0m\u001b[1;33m(\u001b[0m\u001b[0mnbytes\u001b[0m\u001b[1;33m,\u001b[0m \u001b[0mbuffer\u001b[0m\u001b[1;33m)\u001b[0m\u001b[1;33m\u001b[0m\u001b[1;33m\u001b[0m\u001b[0m\n\u001b[0m\u001b[0;32m   1242\u001b[0m         \u001b[1;32melse\u001b[0m\u001b[1;33m:\u001b[0m\u001b[1;33m\u001b[0m\u001b[1;33m\u001b[0m\u001b[0m\n\u001b[0;32m   1243\u001b[0m             \u001b[1;32mreturn\u001b[0m \u001b[0msuper\u001b[0m\u001b[1;33m(\u001b[0m\u001b[1;33m)\u001b[0m\u001b[1;33m.\u001b[0m\u001b[0mrecv_into\u001b[0m\u001b[1;33m(\u001b[0m\u001b[0mbuffer\u001b[0m\u001b[1;33m,\u001b[0m \u001b[0mnbytes\u001b[0m\u001b[1;33m,\u001b[0m \u001b[0mflags\u001b[0m\u001b[1;33m)\u001b[0m\u001b[1;33m\u001b[0m\u001b[1;33m\u001b[0m\u001b[0m\n",
      "\u001b[1;32m~\\anaconda3\\lib\\ssl.py\u001b[0m in \u001b[0;36mread\u001b[1;34m(self, len, buffer)\u001b[0m\n\u001b[0;32m   1097\u001b[0m         \u001b[1;32mtry\u001b[0m\u001b[1;33m:\u001b[0m\u001b[1;33m\u001b[0m\u001b[1;33m\u001b[0m\u001b[0m\n\u001b[0;32m   1098\u001b[0m             \u001b[1;32mif\u001b[0m \u001b[0mbuffer\u001b[0m \u001b[1;32mis\u001b[0m \u001b[1;32mnot\u001b[0m \u001b[1;32mNone\u001b[0m\u001b[1;33m:\u001b[0m\u001b[1;33m\u001b[0m\u001b[1;33m\u001b[0m\u001b[0m\n\u001b[1;32m-> 1099\u001b[1;33m                 \u001b[1;32mreturn\u001b[0m \u001b[0mself\u001b[0m\u001b[1;33m.\u001b[0m\u001b[0m_sslobj\u001b[0m\u001b[1;33m.\u001b[0m\u001b[0mread\u001b[0m\u001b[1;33m(\u001b[0m\u001b[0mlen\u001b[0m\u001b[1;33m,\u001b[0m \u001b[0mbuffer\u001b[0m\u001b[1;33m)\u001b[0m\u001b[1;33m\u001b[0m\u001b[1;33m\u001b[0m\u001b[0m\n\u001b[0m\u001b[0;32m   1100\u001b[0m             \u001b[1;32melse\u001b[0m\u001b[1;33m:\u001b[0m\u001b[1;33m\u001b[0m\u001b[1;33m\u001b[0m\u001b[0m\n\u001b[0;32m   1101\u001b[0m                 \u001b[1;32mreturn\u001b[0m \u001b[0mself\u001b[0m\u001b[1;33m.\u001b[0m\u001b[0m_sslobj\u001b[0m\u001b[1;33m.\u001b[0m\u001b[0mread\u001b[0m\u001b[1;33m(\u001b[0m\u001b[0mlen\u001b[0m\u001b[1;33m)\u001b[0m\u001b[1;33m\u001b[0m\u001b[1;33m\u001b[0m\u001b[0m\n",
      "\u001b[1;31mKeyboardInterrupt\u001b[0m: "
     ]
    }
   ],
   "source": [
    "trans_tracker.plot_btc_holdings()"
   ]
  },
  {
   "cell_type": "markdown",
   "metadata": {},
   "source": [
    "## Looking at Daily Stats\n",
    "\n",
    "We can call `get_pct_change_per_day()` to get a dataframe of our daily `BTC` holdings and day to day percent change\n",
    "\n",
    "`BTC` holding for a single day is derived by taking the shortest path through each product to `BTC` using the last transaction price of a given day\n",
    "\n",
    "EX:\n",
    "To get the `BTC` value of an `ETH` holding, we traverse `ETH` -> `USD` -> `BTC`\n",
    "\n",
    "This logic is all handled for you as a part of `TDSTransactionTracker`"
   ]
  },
  {
   "cell_type": "code",
   "execution_count": 20,
   "metadata": {},
   "outputs": [
    {
     "data": {
      "text/html": [
       "<div>\n",
       "<style scoped>\n",
       "    .dataframe tbody tr th:only-of-type {\n",
       "        vertical-align: middle;\n",
       "    }\n",
       "\n",
       "    .dataframe tbody tr th {\n",
       "        vertical-align: top;\n",
       "    }\n",
       "\n",
       "    .dataframe thead th {\n",
       "        text-align: right;\n",
       "    }\n",
       "</style>\n",
       "<table border=\"1\" class=\"dataframe\">\n",
       "  <thead>\n",
       "    <tr style=\"text-align: right;\">\n",
       "      <th></th>\n",
       "      <th>date</th>\n",
       "      <th>BTC</th>\n",
       "      <th>pct_diff</th>\n",
       "    </tr>\n",
       "  </thead>\n",
       "  <tbody>\n",
       "    <tr>\n",
       "      <th>0</th>\n",
       "      <td>20201001</td>\n",
       "      <td>0.829108</td>\n",
       "      <td>-0.170892</td>\n",
       "    </tr>\n",
       "    <tr>\n",
       "      <th>1</th>\n",
       "      <td>20201002</td>\n",
       "      <td>0.702294</td>\n",
       "      <td>-0.152952</td>\n",
       "    </tr>\n",
       "    <tr>\n",
       "      <th>2</th>\n",
       "      <td>20201003</td>\n",
       "      <td>0.630000</td>\n",
       "      <td>-0.102939</td>\n",
       "    </tr>\n",
       "    <tr>\n",
       "      <th>3</th>\n",
       "      <td>20201004</td>\n",
       "      <td>0.537633</td>\n",
       "      <td>-0.146614</td>\n",
       "    </tr>\n",
       "    <tr>\n",
       "      <th>4</th>\n",
       "      <td>20201005</td>\n",
       "      <td>0.454940</td>\n",
       "      <td>-0.153811</td>\n",
       "    </tr>\n",
       "    <tr>\n",
       "      <th>...</th>\n",
       "      <td>...</td>\n",
       "      <td>...</td>\n",
       "      <td>...</td>\n",
       "    </tr>\n",
       "    <tr>\n",
       "      <th>87</th>\n",
       "      <td>20201227</td>\n",
       "      <td>0.093548</td>\n",
       "      <td>0.066443</td>\n",
       "    </tr>\n",
       "    <tr>\n",
       "      <th>88</th>\n",
       "      <td>20201228</td>\n",
       "      <td>0.095426</td>\n",
       "      <td>0.020067</td>\n",
       "    </tr>\n",
       "    <tr>\n",
       "      <th>89</th>\n",
       "      <td>20201229</td>\n",
       "      <td>0.094541</td>\n",
       "      <td>-0.009270</td>\n",
       "    </tr>\n",
       "    <tr>\n",
       "      <th>90</th>\n",
       "      <td>20201230</td>\n",
       "      <td>0.091634</td>\n",
       "      <td>-0.030746</td>\n",
       "    </tr>\n",
       "    <tr>\n",
       "      <th>91</th>\n",
       "      <td>20201231</td>\n",
       "      <td>0.089773</td>\n",
       "      <td>-0.020316</td>\n",
       "    </tr>\n",
       "  </tbody>\n",
       "</table>\n",
       "<p>92 rows × 3 columns</p>\n",
       "</div>"
      ],
      "text/plain": [
       "        date       BTC  pct_diff\n",
       "0   20201001  0.829108 -0.170892\n",
       "1   20201002  0.702294 -0.152952\n",
       "2   20201003  0.630000 -0.102939\n",
       "3   20201004  0.537633 -0.146614\n",
       "4   20201005  0.454940 -0.153811\n",
       "..       ...       ...       ...\n",
       "87  20201227  0.093548  0.066443\n",
       "88  20201228  0.095426  0.020067\n",
       "89  20201229  0.094541 -0.009270\n",
       "90  20201230  0.091634 -0.030746\n",
       "91  20201231  0.089773 -0.020316\n",
       "\n",
       "[92 rows x 3 columns]"
      ]
     },
     "metadata": {},
     "output_type": "display_data"
    }
   ],
   "source": [
    "display(trans_tracker.get_pct_change_per_day())"
   ]
  },
  {
   "cell_type": "markdown",
   "metadata": {},
   "source": [
    "## Compute Sharpe Ratio\n",
    "\n",
    "To get out Sharpe ration, we simply call `get_sharpe_ratio()`\n",
    "\n",
    "This Sharpe ratio is based on the EOD BTC holdings as shown above and uses the BlockFi 1 BTC interest rate as the risk free return\n",
    "\n",
    "https://blockfi.com/crypto-interest-account"
   ]
  },
  {
   "cell_type": "code",
   "execution_count": 21,
   "metadata": {},
   "outputs": [
    {
     "name": "stdout",
     "output_type": "stream",
     "text": [
      "RISK FREE DAILY RETURN : \n",
      "0.00016438356164383562\n",
      "ACTUAL DAILY RETURN : \n",
      "-0.024572212328816654\n",
      "EXCESS STD : \n",
      "0.049256698748459345\n",
      "-0.5021975998997336\n"
     ]
    }
   ],
   "source": [
    "print(trans_tracker.get_sharpe_ratio())"
   ]
  },
  {
   "cell_type": "markdown",
   "metadata": {},
   "source": [
    "## Saving Your Results\n",
    "\n",
    "To save your trades to a json file in the required format, when you are done trading, simply call `dump_trades(\"<filepath>\")`"
   ]
  },
  {
   "cell_type": "code",
   "execution_count": null,
   "metadata": {},
   "outputs": [],
   "source": [
    "trans_tracker.dump_trades('example_trades.json')"
   ]
  },
  {
   "cell_type": "code",
   "execution_count": null,
   "metadata": {},
   "outputs": [],
   "source": []
  }
 ],
 "metadata": {
  "kernelspec": {
   "display_name": "Python 3",
   "language": "python",
   "name": "python3"
  },
  "language_info": {
   "codemirror_mode": {
    "name": "ipython",
    "version": 3
   },
   "file_extension": ".py",
   "mimetype": "text/x-python",
   "name": "python",
   "nbconvert_exporter": "python",
   "pygments_lexer": "ipython3",
   "version": "3.7.6"
  }
 },
 "nbformat": 4,
 "nbformat_minor": 2
}
