{
 "cells": [
  {
   "cell_type": "code",
   "execution_count": 1,
   "metadata": {},
   "outputs": [],
   "source": [
    "from IPython.display import display, HTML\n",
    "import matplotlib.pyplot as plt\n",
    "import pandas as pd\n",
    "import numpy as np\n",
    "from datetime import datetime, timedelta\n",
    "import statsmodels.api as sm"
   ]
  },
  {
   "cell_type": "code",
   "execution_count": 2,
   "metadata": {},
   "outputs": [],
   "source": [
    "from TDSCoinbaseData import TDSCoinbaseData\n",
    "from TDSTickGenerator import TDSTickGenerator\n",
    "from TDSTransactionTracker import TDSTransactionTracker\n",
    "import logging\n",
    "logging.getLogger().setLevel(level=logging.ERROR)\n",
    "\n",
    "import warnings\n",
    "warnings.filterwarnings('ignore')"
   ]
  },
  {
   "cell_type": "code",
   "execution_count": 3,
   "metadata": {},
   "outputs": [],
   "source": [
    "# instantiate our data interface\n",
    "cb_obj = TDSCoinbaseData(cache_path='../data', notebook_logging=True)\n",
    "# Set the start and end date\n",
    "start_date = '20201231'\n",
    "end_date = '20201231'\n",
    "\n",
    "# List all of the products to be used in the strategy. Be sure to list all products you may use, these can't be updated later\n",
    "products = ['BTC-USD', 'ETH-USD', 'LTC-USD']"
   ]
  },
  {
   "cell_type": "code",
   "execution_count": 4,
   "metadata": {},
   "outputs": [],
   "source": [
    "MAX_TRAINNING_SIZE = 360\n",
    "SIZE_LIMIT_REACHED = False"
   ]
  },
  {
   "cell_type": "code",
   "execution_count": 5,
   "metadata": {},
   "outputs": [],
   "source": [
    "def append_ticks(tick, usd_btc, eth_btc, ltc_btc, scale=1000, max_r=SIZE_LIMIT_REACHED, max_size=MAX_TRAINNING_SIZE):\n",
    "    x = tick.p.btc_usd\n",
    "    y = tick.p.eth_usd\n",
    "    z = tick.p.ltc_usd\n",
    "    usd_btc = usd_btc.append({'open': scale/x.open, 'close': scale/x.close, \n",
    "                      'volume': x.volume, 'datetime': tick.datetime}, ignore_index=True)\n",
    "    eth_btc = eth_btc.append({'open': scale * y.open/x.open, 'close': scale *  y.close/x.close, \n",
    "                      'volume': y.volume, 'datetime': tick.datetime}, ignore_index=True)\n",
    "    ltc_btc = ltc_btc.append({'open': scale * z.open/x.open, 'close': scale * z.close/x.close, \n",
    "                      'volume': z.volume, 'datetime': tick.datetime}, ignore_index=True)\n",
    "    # Checks if size limit has been reached\n",
    "    if (SIZE_LIMIT_REACHED or len(usd_btc.index) > max_size) :\n",
    "        usd_btc = usd_btc.iloc[1:]\n",
    "        max_r = True\n",
    "    if (SIZE_LIMIT_REACHED or len(eth_btc.index) > max_size) :\n",
    "        eth_btc = eth_btc.iloc[1:]\n",
    "        max_r = True\n",
    "    if (SIZE_LIMIT_REACHED or len(ltc_btc.index) > max_size) :\n",
    "        ltc_btc = ltc_btc.iloc[1:]\n",
    "        max_r = True\n",
    "    return(usd_btc, eth_btc, ltc_btc, SIZE_LIMIT_REACHED)"
   ]
  },
  {
   "cell_type": "code",
   "execution_count": 6,
   "metadata": {},
   "outputs": [],
   "source": [
    "def calculate_time(pddatetime, numtime, plus=True):\n",
    "    if plus:\n",
    "        return pddatetime.to_pydatetime() + timedelta(minutes=numtime)\n",
    "    else: \n",
    "        return pddatetime.to_pydatetime() - timedelta(minutes=numtime)\n",
    "\n",
    "# frame -- dataframe\n",
    "# minute -- the number of minutes to be predicted\n",
    "def predict(frame, minute=3) :\n",
    "    frame = frame.set_index('datetime')\n",
    "    y = frame['open'].resample('1T').mean()\n",
    "    l = frame['close'].resample('1T').mean()\n",
    "    v = frame['volume'].resample('1T').mean()\n",
    "    merged = pd.merge(y, l, on='datetime', how=\"outer\")\n",
    "    frame = pd.merge(merged, v, on='datetime', how=\"outer\")\n",
    "\n",
    "    mod = sm.tsa.VARMAX(frame[['open', 'close', 'volume']], order=(1,0), error_cov_type='diagonal')\n",
    "    results = mod.fit(maxiter=50, disp=False)\n",
    "#     print(results.summary().tables[1])\n",
    "    newtime = calculate_time(tick.datetime, minute)\n",
    "    pred = results.get_prediction(start=pd.to_datetime(frame.index[0]), end=newtime, dynamic=False)\n",
    "    pred_ci = pred.conf_int()\n",
    "#     print(pred.predicted_mean)\n",
    "    return pred\n",
    "\n",
    "# Call this function for btc prediction\n",
    "#     minute -- the number of minutes to be predicted\n",
    "# def predict_btc(minute) :\n",
    "#     return predict(usd_btc, minute)\n",
    "    \n",
    "# def predict_eth(minute) :\n",
    "#     return predict(eth_btc, minute)"
   ]
  },
  {
   "cell_type": "code",
   "execution_count": 7,
   "metadata": {},
   "outputs": [],
   "source": [
    "start_date = '20201231'\n",
    "end_date = '20201231'\n",
    "\n",
    "products = ['BTC-USD', 'ETH-USD', 'LTC-USD']\n",
    "\n",
    "# Instantiate our transaction tracker. As required, we start with 1.0 BTC\n",
    "trans_tracker = TDSTransactionTracker(start_date, end_date, holdings={'BTC' : 1.0})\n",
    "\n",
    "# Instantiate a tick generator\n",
    "tick_gen = TDSTickGenerator(cb_obj, products, start_date, end_date, interval=60)\n",
    "tick = tick_gen.get_tick()\n",
    "\n",
    "# Dataframe for history\n",
    "d = {'open': [], 'close': [], 'volume': [], 'datetime': []}\n",
    "usd_btc = pd.DataFrame(data=d)\n",
    "eth_btc = pd.DataFrame(data=d)\n",
    "ltc_btc = pd.DataFrame(data=d)\n",
    "\n",
    "#loads initial value for testing\n",
    "for i in range(0, 150):\n",
    "    tick = tick_gen.get_tick()\n",
    "    (usd_btc, eth_btc, ltc_btc, SIZE_LIMIT_REACHED) = append_ticks(tick, usd_btc, eth_btc, ltc_btc)"
   ]
  },
  {
   "cell_type": "code",
   "execution_count": 8,
   "metadata": {},
   "outputs": [],
   "source": [
    "def get_coin_ratio(tick, holdings):\n",
    "    btc = holdings.get(\"BTC\") if \"BTC\" in holdings else 0\n",
    "    eth = tick.p.eth_usd.close/tick.p.btc_usd.close * holdings.get(\"ETH\") if \"ETH\" in holdings else 0\n",
    "    ltc = tick.p.ltc_usd.close/tick.p.btc_usd.close * holdings.get(\"LTC\") if \"LTC\" in holdings else 0\n",
    "    usd = holdings.get(\"USD\")/tick.p.btc_usd.close if \"USD\" in holdings else 0\n",
    "    res = np.array([usd, eth, ltc, btc])\n",
    "    return sum(res), res/sum(res)"
   ]
  },
  {
   "cell_type": "code",
   "execution_count": 9,
   "metadata": {},
   "outputs": [],
   "source": [
    "def trade_ratio(curr_port, ideal_port, tick, trans_tracker, curr_hold_in_BTC):\n",
    "    gap = (ideal_port - curr_port)[1:]\n",
    "    gap_in_usd = gap * curr_hold_in_BTC * tick.p.btc_usd.close\n",
    "    names = np.array(['ETH-USD', 'LTC-USD', 'BTC-USD'])\n",
    "    names = names[np.argsort(gap_in_usd)]\n",
    "    gap_in_usd = np.sort(gap_in_usd)\n",
    "    # holdings = trans_tracker.get_holdings()\n",
    "    \n",
    "    for idx in range(len(names)):\n",
    "        product = names[idx]\n",
    "        change = gap_in_usd[idx]\n",
    "        attr = getattr(tick.p, product.lower().replace('-', '_'))\n",
    "        # curr_hold = trans_tracker.get_holdings().get(product) if product in \n",
    "        if change < 0:\n",
    "            valid_vol = min(- change / attr.close, attr.volume * 0.5)\n",
    "#             print(product[:3], trans_tracker.get_holdings().get(product[:3]))\n",
    "            valid_vol = min(valid_vol, trans_tracker.get_holdings().get(product[:3]))\n",
    "#             print(- change / attr.close, attr.volume * 0.5)\n",
    "            trans_tracker.make_trade(tick, product, 'sell', valid_vol)\n",
    "        elif change > 0:\n",
    "            valid_amt = min(change, trans_tracker.get_holdings().get(\"USD\"))\n",
    "#             print(attr.volume)\n",
    "            valid_amt = min(valid_amt, attr.volume * attr.close * 0.5)\n",
    "#             print(valid_amt)\n",
    "            trans_tracker.make_trade(tick, product, 'buy', valid_amt)\n",
    "            \n",
    "    # print(names, gap_in_usd)\n",
    "    \n",
    "#     btc_gap = (usd_val * b - btc) / tick.p.btc_usd.close\n",
    "#     eth_gap = (usd_val * e - eth) / tick.p.eth_usd.close\n",
    "#     ltc_gap = (usd_val * l - ltc) / tick.p.ltc_usd.close\n",
    "    \n",
    "#     if (btc_gap > 0):\n",
    "#         trans_tracker.make_trade(tick, 'BTC-USD', 'sell', btc_gap / tick.p.btc_usd.close)\n",
    "#     if (eth_gap > 0):\n",
    "#         trans_tracker.make_trade(tick, 'ETH-USD', 'sell', eth_gap / tick.p.eth_usd.close)\n",
    "#     if (ltc_gap > 0):\n",
    "#         trans_tracker.make_trade(tick, 'LTC-USD', 'sell', ltc_gap / tick.p.ltc_usd.close)\n",
    "        \n",
    "#     if (btc_gap < 0):\n",
    "#         trans_tracker.make_trade(tick, 'BTC-USD', 'buy', min(btc_gap, trans_tracker.get_holdings().get(\"USD\")))\n",
    "#     if (eth_gap < 0):\n",
    "#         trans_tracker.make_trade(tick, 'ETH-USD', 'buy', min(eth_gap, trans_tracker.get_holdings().get(\"USD\")))\n",
    "#     if (ltc_gap < 0):\n",
    "#         trans_tracker.make_trade(tick, 'LTC-USD', 'buy', min(ltc_gap, trans_tracker.get_holdings().get(\"USD\")))"
   ]
  },
  {
   "cell_type": "code",
   "execution_count": 10,
   "metadata": {},
   "outputs": [
    {
     "name": "stdout",
     "output_type": "stream",
     "text": [
      "0 [0. 0. 0. 1.] [0. 0. 1. 0.]\n",
      "1 [0.90701516 0.         0.09298484 0.        ] [0. 0. 0. 1.]\n",
      "2 [0.         0.         0.06503451 0.93496549] [1. 0. 0. 0.]\n",
      "3 [1. 0. 0. 0.] [0. 1. 0. 0.]\n",
      "4 [0. 1. 0. 0.] [0. 0. 1. 0.]\n",
      "5 [0.76731033 0.         0.23268967 0.        ] [1. 0. 0. 0.]\n",
      "6 [0.86277448 0.         0.13722552 0.        ] [0. 1. 0. 0.]\n",
      "7 [0.06437534 0.88782901 0.04779564 0.        ] [0. 1. 0. 0.]\n",
      "8 [0.00000000e+00 1.00000000e+00 7.92459888e-18 0.00000000e+00] [0. 0. 0. 1.]\n",
      "9 [0.         0.10247877 0.         0.89752123] [0. 0. 1. 0.]\n",
      "10 [0.77628347 0.         0.22371653 0.        ] [0. 0. 0. 1.]\n",
      "11 [0.         0.         0.13131633 0.86868367] [0. 0. 0. 1.]\n",
      "12 [0. 0. 0. 1.] [0. 0. 0. 1.]\n",
      "13 [0. 0. 0. 1.] [1. 0. 0. 0.]\n",
      "14 [1. 0. 0. 0.] [0. 0. 1. 0.]\n",
      "15 [0.94584379 0.         0.05415621 0.        ] [0. 0. 0. 1.]\n",
      "16 [0.00000000e+00 0.00000000e+00 7.98901481e-18 1.00000000e+00] [0. 0. 1. 0.]\n",
      "17 [0.38948773 0.         0.61051227 0.        ] [1. 0. 0. 0.]\n",
      "18 [0.64910442 0.         0.35089558 0.        ] [0. 0. 1. 0.]\n",
      "19 [0.56439152 0.         0.43560848 0.        ] [0. 0. 1. 0.]\n"
     ]
    }
   ],
   "source": [
    "# Actual trading strategy\n",
    "\n",
    "count = 0\n",
    "while tick is not None and count < 20:\n",
    "    \n",
    "    # Get current prices \n",
    "    x_price = 1000 / tick.p.btc_usd.close\n",
    "    y_price = 1000 * tick.p.eth_usd.close / tick.p.btc_usd.close\n",
    "    z_price = 1000 * tick.p.ltc_usd.close / tick.p.btc_usd.close\n",
    "    \n",
    "    curr_hold_in_BTC, curr_port = get_coin_ratio(tick, trans_tracker.get_holdings())\n",
    "    # Get predicted values\n",
    "    pred_usd = predict(usd_btc, 1)\n",
    "    pred_eth = predict(eth_btc, 1)\n",
    "    pred_ltc = predict(ltc_btc, 1)\n",
    "    \n",
    "    # Find which one increases the most\n",
    "    changes = np.array([(pred_usd.predicted_mean[\"close\"][-1]-x_price)/x_price, \n",
    "               (pred_eth.predicted_mean[\"close\"][-1]-y_price)/y_price, \n",
    "               (pred_ltc.predicted_mean[\"close\"][-1]-z_price)/z_price, \n",
    "                       0])\n",
    "\n",
    "    \n",
    "    # interval = (pred_usd.conf_int()[\"upper close\"][-1] - pred_usd.conf_int()[\"lower close\"][-1]) / ratio\n",
    "#     print(count, usd_btc[\"close\"][len(usd_btc)-1], pred_usd.conf_int()[\"lower close\"][-1], pred_usd.conf_int()[\"upper close\"][-1])\n",
    "#     if pred_usd.predicted_mean[\"close\"][-1] - interval <= usd_btc[\"close\"][len(usd_btc)-1] <= pred_usd.predicted_mean[\"close\"][-1] + interval:\n",
    "#         x_acc[0] += 1\n",
    "#     else:\n",
    "#         x_acc[1] += 1\n",
    "    \n",
    "    # Obtain ideal portfolio\n",
    "    ideal_port = np.zeros_like(changes)\n",
    "    ideal_port[changes.argmax(0)] = 1\n",
    "    \n",
    "    print(count, curr_port, ideal_port)\n",
    "    trade_ratio(curr_port, ideal_port, tick, trans_tracker, curr_hold_in_BTC)\n",
    "    \n",
    "    (usd_btc, eth_btc, ltc_btc, SIZE_LIMIT_REACHED) = append_ticks(tick, usd_btc, eth_btc, ltc_btc)\n",
    "    tick = tick_gen.get_tick()\n",
    "    count += 1"
   ]
  },
  {
   "cell_type": "code",
   "execution_count": 11,
   "metadata": {
    "scrolled": true
   },
   "outputs": [
    {
     "data": {
      "text/plain": [
       "{'BTC': 0.0, 'USD': 7613.321738014282, 'LTC': 161.19444545298103, 'ETH': 0.0}"
      ]
     },
     "execution_count": 11,
     "metadata": {},
     "output_type": "execute_result"
    }
   ],
   "source": [
    "trans_tracker.get_holdings()"
   ]
  },
  {
   "cell_type": "code",
   "execution_count": 13,
   "metadata": {},
   "outputs": [
    {
     "data": {
      "text/plain": [
       "(0.9749163884448557, array([0.27206502, 0.        , 0.72793498, 0.        ]))"
      ]
     },
     "execution_count": 13,
     "metadata": {},
     "output_type": "execute_result"
    }
   ],
   "source": [
    "get_coin_ratio(tick, trans_tracker.get_holdings())"
   ]
  },
  {
   "cell_type": "code",
   "execution_count": null,
   "metadata": {},
   "outputs": [],
   "source": []
  }
 ],
 "metadata": {
  "kernelspec": {
   "display_name": "Python 3",
   "language": "python",
   "name": "python3"
  },
  "language_info": {
   "codemirror_mode": {
    "name": "ipython",
    "version": 3
   },
   "file_extension": ".py",
   "mimetype": "text/x-python",
   "name": "python",
   "nbconvert_exporter": "python",
   "pygments_lexer": "ipython3",
   "version": "3.8.5"
  }
 },
 "nbformat": 4,
 "nbformat_minor": 4
}
