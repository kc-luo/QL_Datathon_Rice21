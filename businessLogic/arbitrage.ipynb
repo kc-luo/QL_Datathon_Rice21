{
 "cells": [
  {
   "cell_type": "code",
   "execution_count": 2,
   "metadata": {
    "scrolled": true
   },
   "outputs": [
    {
     "data": {
      "text/html": [
       "<style>.container { width:100% !important; }</style>"
      ],
      "text/plain": [
       "<IPython.core.display.HTML object>"
      ]
     },
     "metadata": {},
     "output_type": "display_data"
    }
   ],
   "source": [
    "from IPython.display import display, HTML\n",
    "display(HTML(\"<style>.container { width:100% !important; }</style>\"))\n",
    "from TDSCoinbaseData import TDSCoinbaseData\n",
    "from TDSTickGenerator import TDSTickGenerator\n",
    "from TDSTransactionTracker import TDSTransactionTracker\n",
    "import logging\n",
    "logging.getLogger().setLevel(level=logging.ERROR)"
   ]
  },
  {
   "cell_type": "code",
   "execution_count": 3,
   "metadata": {},
   "outputs": [
    {
     "name": "stdout",
     "output_type": "stream",
     "text": [
      "DAY 20200312 , INITIAL HOLDINGS : \n",
      "{'BTC': 0.5, 'USD': 3971.3486820000003}\n"
     ]
    }
   ],
   "source": [
    "# instantiate our data interface\n",
    "cb_obj = TDSCoinbaseData(cache_path='data', notebook_logging=True)\n",
    "\n",
    "# Set the start and end date\n",
    "start_date = \"20200312\"\n",
    "end_date = \"20200312\"\n",
    "\n",
    "# List all of the products to be used in the strategy. Be sure to list all products you may use, these can't be updated later\n",
    "products = ['BTC-USD', 'ETH-USD', 'BTC-EUR', 'ETH-EUR', 'LTC-USD', 'LTC-EUR']\n",
    "\n",
    "# Instantiate our transaction tracker. As required, we start with 1.0 BTC\n",
    "trans_tracker = TDSTransactionTracker(start_date, end_date, holdings={'BTC' : 1.0})\n",
    "\n",
    "# Instantiate a tick generator\n",
    "tick_gen = TDSTickGenerator(cb_obj, products, start_date, end_date, interval=60)\n",
    "# print(trans_tracker.get_holdings())\n",
    "\n",
    "tick = tick_gen.get_tick()\n",
    "trans_tracker.make_trade(tick, 'BTC-USD', 'sell', 0.5)\n",
    "print(\"DAY\", start_date, ', INITIAL HOLDINGS : ')\n",
    "# Check the updated holdings\n",
    "print(trans_tracker.get_holdings())"
   ]
  },
  {
   "cell_type": "code",
   "execution_count": 4,
   "metadata": {},
   "outputs": [],
   "source": [
    "def trade_eth(tick, bu, eu, be, ee, has_usd):\n",
    "        # Amount of ETH and BTC to trade at most due to volume restriction\n",
    "        num_eth = min(tick.p.eth_usd.volume, tick.p.eth_eur.volume) / 2\n",
    "        num_btc = num_eth * ee / be\n",
    "        if (num_btc > min(tick.p.btc_usd.volume, tick.p.btc_eur.volume) / 2):\n",
    "            num_btc = min(num_eth * ee / be, min(tick.p.btc_usd.volume, tick.p.btc_eur.volume) / 2)\n",
    "            num_eth = num_btc * be / ee\n",
    "\n",
    "        # Buy Bitcoin with USD\n",
    "        trans_tracker.make_trade(tick, 'BTC-USD', 'buy', min(num_btc * bu, has_usd))\n",
    "        print(trans_tracker.get_holdings())\n",
    "        # Sell Bitcoin for EUR\n",
    "        trans_tracker.make_trade(tick, 'BTC-EUR', 'sell', min(num_btc, trans_tracker.get_holdings().get(\"BTC\")))\n",
    "        print(trans_tracker.get_holdings())\n",
    "        # Buy ETH with EUR\n",
    "        trans_tracker.make_trade(tick, 'ETH-EUR', 'buy', min(num_eth * ee, trans_tracker.get_holdings().get(\"EUR\")))\n",
    "        print(trans_tracker.get_holdings())\n",
    "        # Sell ETH with USD\n",
    "        trans_tracker.make_trade(tick, 'ETH-USD', 'sell', trans_tracker.get_holdings().get(\"ETH\"))\n",
    "        print(trans_tracker.get_holdings())\n",
    "        # Buy Bitcoin with USD\n",
    "        trans_tracker.make_trade(tick, 'BTC-USD', 'buy', min(num_btc * bu, trans_tracker.get_holdings().get(\"USD\")))\n",
    "        print(trans_tracker.get_holdings())"
   ]
  },
  {
   "cell_type": "code",
   "execution_count": 5,
   "metadata": {},
   "outputs": [],
   "source": [
    "def trade_ltc(tick, bu, lu, be, le, has_usd):\n",
    "        # Amount of LTC and BTC to trade at most due to volume restriction\n",
    "        num_ltc = min(tick.p.ltc_usd.volume, tick.p.ltc_eur.volume) / 2\n",
    "        num_btc = num_ltc * le / be\n",
    "        if (num_btc > min(tick.p.btc_usd.volume, tick.p.btc_eur.volume) / 2):\n",
    "            num_btc = min(num_ltc * le / be, min(tick.p.btc_usd.volume, tick.p.btc_eur.volume) / 2)\n",
    "            num_ltc = num_btc * be / le\n",
    "\n",
    "        # Buy Bitcoin with USD\n",
    "        trans_tracker.make_trade(tick, 'BTC-USD', 'buy', min(num_btc * bu, has_usd))\n",
    "        print(trans_tracker.get_holdings())\n",
    "        # Sell Bitcoin for EUR\n",
    "        trans_tracker.make_trade(tick, 'BTC-EUR', 'sell', min(num_btc, trans_tracker.get_holdings().get(\"BTC\")))\n",
    "        print(trans_tracker.get_holdings())\n",
    "        # Buy LTC with EUR\n",
    "        trans_tracker.make_trade(tick, 'LTC-EUR', 'buy', min(num_ltc * le, trans_tracker.get_holdings().get(\"EUR\")))\n",
    "        print(trans_tracker.get_holdings())\n",
    "        # Sell LTC with USD\n",
    "        trans_tracker.make_trade(tick, 'LTC-USD', 'sell', trans_tracker.get_holdings().get(\"LTC\"))\n",
    "        print(trans_tracker.get_holdings())\n",
    "        # Buy Bitcoin with USD\n",
    "        trans_tracker.make_trade(tick, 'BTC-USD', 'buy', min(num_btc * bu, trans_tracker.get_holdings().get(\"USD\")))\n",
    "        print(trans_tracker.get_holdings())"
   ]
  },
  {
   "cell_type": "code",
   "execution_count": 6,
   "metadata": {},
   "outputs": [],
   "source": [
    "def arbitrage(benchmark, tick):\n",
    "\n",
    "    while tick is not None:\n",
    "        bu = tick.p.btc_usd.close\n",
    "        eu = tick.p.eth_usd.close\n",
    "        lu = tick.p.ltc_usd.close\n",
    "        be = tick.p.btc_eur.close\n",
    "        ee = tick.p.eth_eur.close\n",
    "        le = tick.p.ltc_eur.close\n",
    "        \n",
    "        has_usd = trans_tracker.get_holdings().get(\"USD\")\n",
    "\n",
    "        # Check exchange ratios for BTC - ETH and BTC - LTC\n",
    "        be_ratio = (be * eu) / (ee * bu) * 100 - 100\n",
    "        bl_ratio = (be * lu) / (le * bu) * 100 - 100\n",
    "        \n",
    "        # Check if it is an arbitrage opportunity for BTC - ETH or BTC - LTC\n",
    "        if (be_ratio < benchmark and bl_ratio < benchmark):\n",
    "            tick = tick_gen.get_tick()\n",
    "            continue\n",
    "\n",
    "        # Check which would guarantee larger profit\n",
    "        if (be_ratio > bl_ratio):\n",
    "            trade_eth(tick, bu, eu, be, ee, has_usd)\n",
    "        else:\n",
    "            trade_ltc(tick, bu, lu, be, le, has_usd)\n",
    "        \n",
    "        tick = tick_gen.get_tick()"
   ]
  },
  {
   "cell_type": "code",
   "execution_count": 8,
   "metadata": {},
   "outputs": [],
   "source": [
    "arbitrage(1.4, tick)"
   ]
  },
  {
   "cell_type": "code",
   "execution_count": 9,
   "metadata": {},
   "outputs": [
    {
     "data": {
      "text/html": [
       "<div>\n",
       "<style scoped>\n",
       "    .dataframe tbody tr th:only-of-type {\n",
       "        vertical-align: middle;\n",
       "    }\n",
       "\n",
       "    .dataframe tbody tr th {\n",
       "        vertical-align: top;\n",
       "    }\n",
       "\n",
       "    .dataframe thead th {\n",
       "        text-align: right;\n",
       "    }\n",
       "</style>\n",
       "<table border=\"1\" class=\"dataframe\">\n",
       "  <thead>\n",
       "    <tr style=\"text-align: right;\">\n",
       "      <th></th>\n",
       "      <th>date</th>\n",
       "      <th>BTC</th>\n",
       "      <th>pct_diff</th>\n",
       "    </tr>\n",
       "  </thead>\n",
       "  <tbody>\n",
       "    <tr>\n",
       "      <th>0</th>\n",
       "      <td>20200312</td>\n",
       "      <td>1.604147</td>\n",
       "      <td>0.604147</td>\n",
       "    </tr>\n",
       "  </tbody>\n",
       "</table>\n",
       "</div>"
      ],
      "text/plain": [
       "       date       BTC  pct_diff\n",
       "0  20200312  1.604147  0.604147"
      ]
     },
     "metadata": {},
     "output_type": "display_data"
    },
    {
     "name": "stdout",
     "output_type": "stream",
     "text": [
      "RISK FREE DAILY RETURN : \n",
      "0.00016438356164383562\n",
      "ACTUAL DAILY RETURN : \n",
      "0.6041472377268959\n",
      "EXCESS STD : \n",
      "nan\n",
      "nan\n"
     ]
    }
   ],
   "source": [
    "display(trans_tracker.get_pct_change_per_day())\n",
    "print(trans_tracker.get_sharpe_ratio())"
   ]
  },
  {
   "cell_type": "code",
   "execution_count": 19,
   "metadata": {},
   "outputs": [],
   "source": [
    "def trade_ratio(b, e, l, tick, trans_tracker):\n",
    "    btc = tick.p.btc_usd.close * trans_tracker.get_holdings().get(\"BTC\")\n",
    "    eth = tick.p.eth_usd.close * trans_tracker.get_holdings().get(\"ETH\")\n",
    "    ltc = tick.p.ltc_usd.close * trans_tracker.get_holdings().get(\"LTC\")\n",
    "    usd_val = btc + eth + ltc\n",
    "    print(btc/usd_val, \" \", eth/usd_val, \" \", ltc/usd_val)\n",
    "    \n",
    "    btc_gap = (usd_val * b - btc) / tick.p.btc_usd.close\n",
    "    eth_gap = (usd_val * e - eth) / tick.p.eth_usd.close\n",
    "    ltc_gap = (usd_val * l - ltc) / tick.p.ltc_usd.close\n",
    "    \n",
    "    if (btc_gap > 0):\n",
    "        trans_tracker.make_trade(tick, 'BTC-USD', 'sell', btc_gap / tick.p.btc_usd.close)\n",
    "    if (eth_gap > 0):\n",
    "        trans_tracker.make_trade(tick, 'ETH-USD', 'sell', eth_gap / tick.p.eth_usd.close)\n",
    "    if (ltc_gap > 0):\n",
    "        trans_tracker.make_trade(tick, 'LTC-USD', 'sell', ltc_gap / tick.p.ltc_usd.close)\n",
    "        \n",
    "    if (btc_gap < 0):\n",
    "        trans_tracker.make_trade(tick, 'BTC-USD', 'buy', min(btc_gap, trans_tracker.get_holdings().get(\"USD\")))\n",
    "    if (eth_gap < 0):\n",
    "        trans_tracker.make_trade(tick, 'ETH-USD', 'buy', min(eth_gap, trans_tracker.get_holdings().get(\"USD\")))\n",
    "    if (ltc_gap < 0):\n",
    "        trans_tracker.make_trade(tick, 'LTC-USD', 'buy', min(ltc_gap, trans_tracker.get_holdings().get(\"USD\")))"
   ]
  },
  {
   "cell_type": "code",
   "execution_count": 1,
   "metadata": {},
   "outputs": [],
   "source": [
    "def get_coin_ratio(tick, holdings):\n",
    "    btc = holdings.get(\"BTC\") if \"BTC\" in holdings else 0\n",
    "    eth = tick.p.eth_usd.close/tick.p.btc_usd.close * holdings.get(\"ETH\") if \"ETH\" in holdings else 0\n",
    "    ltc = tick.p.ltc_usd.close/tick.p.btc_usd.close * holdings.get(\"LTC\") if \"LTC\" in holdings else 0\n",
    "    usd = holdings.get(\"USD\")/tick.p.btc_usd.close if \"USD\" in holdings else 0\n",
    "    res = [btc, usd, eth, ltc]\n",
    "    return res/sum(res)"
   ]
  },
  {
   "cell_type": "code",
   "execution_count": 23,
   "metadata": {},
   "outputs": [
    {
     "data": {
      "text/plain": [
       "[1.0, 0.0, 0.0]"
      ]
     },
     "execution_count": 23,
     "metadata": {},
     "output_type": "execute_result"
    }
   ],
   "source": [
    "get_coin_ratio(tick, trans_tracker)"
   ]
  },
  {
   "cell_type": "code",
   "execution_count": null,
   "metadata": {},
   "outputs": [],
   "source": []
  }
 ],
 "metadata": {
  "kernelspec": {
   "display_name": "Python 3",
   "language": "python",
   "name": "python3"
  },
  "language_info": {
   "codemirror_mode": {
    "name": "ipython",
    "version": 3
   },
   "file_extension": ".py",
   "mimetype": "text/x-python",
   "name": "python",
   "nbconvert_exporter": "python",
   "pygments_lexer": "ipython3",
   "version": "3.8.5"
  }
 },
 "nbformat": 4,
 "nbformat_minor": 4
}
